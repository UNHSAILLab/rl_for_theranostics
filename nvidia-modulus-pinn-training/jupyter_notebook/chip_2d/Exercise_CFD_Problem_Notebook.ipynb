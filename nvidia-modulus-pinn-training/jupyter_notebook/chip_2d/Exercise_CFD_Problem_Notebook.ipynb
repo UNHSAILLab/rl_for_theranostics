{
 "cells": [
  {
   "cell_type": "markdown",
   "metadata": {},
   "source": [
    "# Summary"
   ]
  },
  {
   "cell_type": "markdown",
   "metadata": {},
   "source": [
    "Before we jump to few exercise problems, let's review the content we covered so far. \n",
    "\n",
    "We started the course by understanding the applications on Machine Learning and Deep Learning in the fields of Science and Engineering. We saw how NVIDIA Modulus can tackle several of those applications, its advantages, and key use-cases. We covered two main paradigms of deep learning in this field, namely the physics-informed training where the model is supervised with only physics in the form of governing equations and boundary conditions, and data-driven training where the model is supervised with data that may come from any external numerical method, experiments, observations etc. In each case, we explored these ideas (and their variants, including hybrid of physics and data) hands-on by setting up simple problems and looking at Modulus APIs and workflows. We believe, with this information you should be well-equipped to explore the different cases in the [Modulus User Documentation ](https://docs.nvidia.com/deeplearning/modulus/index.html) yourself further, and more importantly try AI training and inference on problems of your choice using NVIDIA Modulus. \n",
    "\n",
    "In the subsequent section, you can use the learnings so far, to simulate a fluid mechanics problem governed by Navier-Stokes equations using the PINNs approach. "
   ]
  },
  {
   "cell_type": "markdown",
   "metadata": {},
   "source": [
    "# Steady State 2D Laminar Flow over a Chip"
   ]
  },
  {
   "cell_type": "markdown",
   "metadata": {},
   "source": [
    "The problem is defined as follows:\n",
    "\n",
    "A 2D chip is placed inside a 2D channel. The flow enters the inlet (a parabolic profile is used with $u_{max}=1.5\\text{ m/s}$) and exits through the outlet which is a $0 Pa$. All the other walls are treated as no-slip. The kinematic viscosity $(\\nu)$ for the flow is $0.02 \\text{ }m^2/s$ and the density $(\\rho)$ is $1 \\text{ }kg/m^3$. The problem is shown in the figure below.\n",
    "\n",
    "<img src=\"chip_2d_geom.png\" alt=\"Drawing\" style=\"width: 800px;\"/>"
   ]
  },
  {
   "cell_type": "markdown",
   "metadata": {},
   "source": [
    "### Objectives \n",
    "The objectives of this problem, with links to their accompanying notebooks, are as follows:\n",
    "1. [Fluid Flow](Exercise_1.ipynb): Use PINNs to solve the fluid flow for the given geometry and flow parameters.\n",
    "2. [Parameterized](Exercise_2.ipynb): Use PINNs to solve the parameterized problem by varying the chip's geometry (width and height).\n",
    "3. [Inverse Problem](Exercise_3.ipynb): Use PINNs along with the OpenFOAM data to solve the inverse problem of finding the viscosity of the flow, given the flow field data."
   ]
  }
 ],
 "metadata": {
  "jupytext": {
   "formats": "ipynb"
  },
  "kernelspec": {
   "display_name": "Python 3 (ipykernel)",
   "language": "python",
   "name": "python3"
  },
  "language_info": {
   "codemirror_mode": {
    "name": "ipython",
    "version": 3
   },
   "file_extension": ".py",
   "mimetype": "text/x-python",
   "name": "python",
   "nbconvert_exporter": "python",
   "pygments_lexer": "ipython3",
   "version": "3.8.13"
  }
 },
 "nbformat": 4,
 "nbformat_minor": 4
}
