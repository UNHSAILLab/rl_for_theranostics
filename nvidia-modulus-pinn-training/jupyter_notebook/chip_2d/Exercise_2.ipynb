{
 "cells": [
  {
   "cell_type": "markdown",
   "metadata": {},
   "source": [
    "## Problem Statement\n",
    "\n",
    "Use PINNs to solve the parameterized fluid flow for the given geometry and flow parameters\n",
    "\n",
    "Simulate the same chip flow, but now with variable chip height and width in a single parameteric run. \n",
    "\n",
    "<img src=\"chip_2d_parameterized.png\" alt=\"Drawing\" style=\"width: 800px;\"/>\n",
    "\n",
    "## Exercise\n",
    "\n",
    "The main objective of this problem is to correctly formulate the problem using PINNs. In order to achieve that, you will have to complete the following parts successfully:\n",
    "1. Define the correct *parameterized* geometry for the problem\n",
    "2. Set up the correct boundary conditions and equations\n",
    "3. Create the neural network and solve the *parameteric* problem\n",
    "\n",
    "A successful completion of the problem should result a network that can be inferenced at any geometry parameter combination of our choice. For example, the model should be able to create plots for a geometry configuration where the chip height is of 0.4 and width is 1.4. An example is shown below. Remember, once the model is trained, you can infer any geometry combination without the need to solve the problem again. Quite cool isn't it!? \n",
    "\n",
    "<img src=\"challenge_results_param_updated.png\" alt=\"Drawing\" style=\"width: 800px;\"/>"
   ]
  },
  {
   "cell_type": "markdown",
   "metadata": {},
   "source": [
    "In this template, we have given you a skeleton code which you will fill in to define and solve the parametric problem. If you have completed the exercise 1 successfully, moving to this part should be fairly easy as there are only a few minor edits. Let us start with importing the required packages.\n",
    "\n",
    "**Note: You need to edit the [`chip_2d_parameterized_template.py`](../../source_code/chip_2d/chip_2d_parameterized_template.py) script that is placed in the `chip_2d/` directory.**"
   ]
  },
  {
   "cell_type": "markdown",
   "metadata": {},
   "source": [
    "```python\n",
    "import numpy as np\n",
    "from sympy import Symbol, Eq\n",
    "\n",
    "import modulus\n",
    "from modulus.hydra import to_absolute_path, ModulusConfig, instantiate_arch\n",
    "from modulus.utils.io import csv_to_dict\n",
    "from modulus.solver import Solver\n",
    "from modulus.domain import Domain\n",
    "from modulus.geometry.primitives_2d import Rectangle, Line, Channel2D\n",
    "from modulus.utils.sympy.functions import parabola\n",
    "from modulus.eq.pdes.navier_stokes import NavierStokes\n",
    "from modulus.eq.pdes.basic import NormalDotVec\n",
    "from modulus.domain.constraint import (\n",
    "    PointwiseBoundaryConstraint,\n",
    "    PointwiseInteriorConstraint,\n",
    "    IntegralBoundaryConstraint,\n",
    ")\n",
    "\n",
    "from modulus.domain.validator import PointwiseValidator\n",
    "from modulus.key import Key\n",
    "from modulus.node import Node\n",
    "```"
   ]
  },
  {
   "cell_type": "markdown",
   "metadata": {},
   "source": [
    "Now we have defined the simulation parameters and the symbolic variables to parameterize the geometry below. As seen in the earlier tutorials, we have defined a range in which data points will be sampled during the training. Feel free to try different ranges for the variables."
   ]
  },
  {
   "cell_type": "markdown",
   "metadata": {},
   "source": [
    "```python\n",
    "@modulus.main(config_path=\"conf\", config_name=\"config_param\")\n",
    "def run(cfg: ModulusConfig) -> None:\n",
    "\n",
    "    # make list of nodes to unroll graph on\n",
    "    ns = NavierStokes(nu=0.02, rho=1.0, dim=2, time=False)\n",
    "    normal_dot_vel = NormalDotVec([\"u\", \"v\"])\n",
    "    flow_net = instantiate_arch(\n",
    "        input_keys=[placeholder],\n",
    "        output_keys=[placeholder],\n",
    "        cfg=cfg.arch.fourier_net,\n",
    "    )\n",
    "    nodes = (\n",
    "        ns.make_nodes()\n",
    "        + normal_dot_vel.make_nodes()\n",
    "        + [flow_net.make_node(name=\"flow_network\", jit=cfg.jit)]\n",
    "    )\n",
    "\n",
    "    # add constraints to solver\n",
    "    # simulation params\n",
    "    channel_length = (-2.5, 2.5)\n",
    "    channel_width = (-0.5, 0.5)\n",
    "    chip_pos = -1.0\n",
    "    inlet_vel = 1.5\n",
    "\n",
    "    # paramteric variables\n",
    "    chip_height = Symbol(\"chip_height\")  # Not fixed anymore\n",
    "    chip_width = Symbol(\"chip_width\")    # Not fixed anymore\n",
    "    chip_height_range = (0.4, 0.8)\n",
    "    chip_width_range = (0.6, 1.4)\n",
    "    param_ranges = {chip_height: chip_height_range, chip_width: chip_width_range}\n",
    "\n",
    "    # define sympy variables to parametrize domain curves\n",
    "    x, y = Symbol(\"x\"), Symbol(\"y\")\n",
    "\n",
    "    # define geometry\n",
    "    channel = placeholder\n",
    "    inlet = placeholder\n",
    "    outlet = placeholder\n",
    "    rec = placeholder\n",
    "    flow_rec = placeholder\n",
    "    geo = channel - rec\n",
    "    geo_hr = geo & flow_rec\n",
    "    geo_lr = geo - flow_rec\n",
    "    x_pos = Symbol(\"x_pos\")\n",
    "    integral_line = Line((x_pos, channel_width[0]), (x_pos, channel_width[1]), 1)\n",
    "    x_pos_range = {\n",
    "        x_pos: lambda batch_size: np.full(\n",
    "            (batch_size, 1), np.random.uniform(channel_length[0], channel_length[1])\n",
    "        )\n",
    "    }\n",
    "```"
   ]
  },
  {
   "cell_type": "markdown",
   "metadata": {},
   "source": [
    "Now complete the constraints definition below. Remember that this time, you will have to add the dictionary of the parameter keys and their ranges as an input to the `param_ranges` parameter. An example of the inlet boundary condition is already shown. *Note: For the integral continuity planes, you have two dictionaries. One for the randomly sampled* `x_pos` *and the other for the parameteric variables itself. Make sure to include both of these as input to the* `param_ranges`"
   ]
  },
  {
   "cell_type": "markdown",
   "metadata": {},
   "source": [
    "```python\n",
    "    #TODO: Replace all the placeholders with appropriate values \n",
    "\n",
    "    # make domain\n",
    "    domain = Domain()\n",
    "\n",
    "    # inlet\n",
    "    inlet_parabola = parabola(y, channel_width[0], channel_width[1], inlet_vel)\n",
    "    inlet = PointwiseBoundaryConstraint(\n",
    "        nodes=nodes,\n",
    "        geometry=inlet,\n",
    "        outvar={\"u\": inlet_parabola, \"v\": 0},\n",
    "        batch_size=cfg.batch_size.inlet,\n",
    "        parameterization=param_ranges,\n",
    "    )\n",
    "    domain.add_constraint(inlet, \"inlet\")\n",
    "\n",
    "    # outlet\n",
    "    outlet = PointwiseBoundaryConstraint(\n",
    "        nodes=nodes,\n",
    "        geometry=outlet,\n",
    "        outvar=placeholder,\n",
    "        batch_size=cfg.batch_size.outlet,\n",
    "        criteria=Eq(x, channel_length[1]),\n",
    "        parameterization=placeholder,\n",
    "    )\n",
    "    domain.add_constraint(outlet, \"outlet\")\n",
    "\n",
    "    # no slip\n",
    "    no_slip = PointwiseBoundaryConstraint(\n",
    "        nodes=nodes,\n",
    "        geometry=geo,\n",
    "        outvar=placeholder,\n",
    "        batch_size=cfg.batch_size.no_slip,\n",
    "        parameterization=placeholder,\n",
    "    )\n",
    "    domain.add_constraint(no_slip, \"no_slip\")\n",
    "\n",
    "    # interior lr\n",
    "    interior_lr = PointwiseInteriorConstraint(\n",
    "        nodes=nodes,\n",
    "        geometry=geo_lr,\n",
    "        outvar=placeholder,\n",
    "        batch_size=cfg.batch_size.interior_lr,\n",
    "        bounds={x: channel_length, y: channel_width},\n",
    "        lambda_weighting=placeholder,\n",
    "        parameterization=placeholder,\n",
    "    )\n",
    "    domain.add_constraint(interior_lr, \"interior_lr\")\n",
    "\n",
    "    # interior hr\n",
    "    interior_hr = PointwiseInteriorConstraint(\n",
    "        nodes=nodes,\n",
    "        geometry=geo_hr,\n",
    "        outvar=placeholder,\n",
    "        batch_size=cfg.batch_size.interior_hr,\n",
    "        bounds={x: channel_length, y: channel_width},\n",
    "        lambda_weighting=placeholder,\n",
    "        parameterization=placeholder,\n",
    "    )\n",
    "    domain.add_constraint(interior_hr, \"interior_hr\")\n",
    "\n",
    "    # integral continuity\n",
    "    def integral_criteria(invar, params):\n",
    "        sdf = geo.sdf(invar, params)\n",
    "        return np.greater(sdf[\"sdf\"], 0)\n",
    "\n",
    "    integral_continuity = IntegralBoundaryConstraint(\n",
    "        nodes=nodes,\n",
    "        geometry=integral_line,\n",
    "        outvar=placeholder,\n",
    "        batch_size=cfg.batch_size.num_integral_continuity,\n",
    "        integral_batch_size=cfg.batch_size.integral_continuity,\n",
    "        lambda_weighting=placeholder,\n",
    "        criteria=geo.sdf > 0,\n",
    "        parameterization=placeholder,\n",
    "    )\n",
    "    domain.add_constraint(integral_continuity, \"integral_continuity\")\n",
    "```"
   ]
  },
  {
   "cell_type": "markdown",
   "metadata": {},
   "source": [
    "Now, add validation data to the problem. Similar to the tutorial examples, validate this parameteric solution for a single configuration. Remember that the network for this problem has four inputs (x, y, chip_height, and chip_width). So your validation data also must have those corresponding inputs for each point in the CSV file. "
   ]
  },
  {
   "cell_type": "markdown",
   "metadata": {},
   "source": [
    "```python\n",
    "    # add validation data\n",
    "    mapping = {\"Points:0\": \"x\", \"Points:1\": \"y\", \"U:0\": \"u\", \"U:1\": \"v\", \"p\": \"p\"}\n",
    "    openfoam_var = csv_to_dict(to_absolute_path(\"openfoam/2D_chip_fluid0.csv\"), mapping)\n",
    "    openfoam_var[\"x\"] -= 2.5  # normalize pos\n",
    "    openfoam_var[\"y\"] -= 0.5\n",
    "    \n",
    "    # TODO: Add the arrays for 'chip_height' and 'chip_width'\n",
    "    \n",
    "    openfoam_invar_numpy = {\n",
    "        key: value\n",
    "        for key, value in openfoam_var.items()\n",
    "        if key in [\"x\", \"y\", \"chip_height\", \"chip_width\"]\n",
    "    }\n",
    "    openfoam_outvar_numpy = {\n",
    "        key: value for key, value in openfoam_var.items() if key in [\"u\", \"v\", \"p\"]\n",
    "    }\n",
    "    openfoam_validator = PointwiseValidator(\n",
    "        invar=openfoam_invar_numpy, true_outvar=openfoam_outvar_numpy, nodes=nodes\n",
    "    )\n",
    "    domain.add_validator(openfoam_validator)\n",
    "```"
   ]
  },
  {
   "cell_type": "markdown",
   "metadata": {},
   "source": [
    "As discussed in the beginning, we would like to visualize multiple designs without training again and again. You can define a `PointwiseInferencer` to do this. Changing the values in this domain alone and executing the script with `eval` mode will help you to visualize multiple designs using the already trained network."
   ]
  },
  {
   "cell_type": "markdown",
   "metadata": {},
   "source": [
    "```python\n",
    "    inference = PointwiseInferencer(\n",
    "        openfoam_invar_numpy,     # TODO: The invar array can be changed to infer at different geometry combinations\n",
    "        [\"u\", \"v\", \"p\"],\n",
    "        nodes,\n",
    "        batch_size=1024,\n",
    "    )\n",
    "    domain.add_inferencer(inference, \"inf_data\")\n",
    "```"
   ]
  },
  {
   "cell_type": "markdown",
   "metadata": {},
   "source": [
    "Now finish the problem by defining the `Solver` to solve our parametric problem. The important hyperparameters of the problem are defined for you in the config files. Feel free to tweak them and observe its behavior on the results and speed of convergence."
   ]
  },
  {
   "cell_type": "markdown",
   "metadata": {},
   "source": [
    "```python\n",
    "    # make solver\n",
    "    slv = Solver(cfg, domain)\n",
    "\n",
    "    # start solver\n",
    "    slv.solve()\n",
    "\n",
    "\n",
    "if __name__ == \"__main__\":\n",
    "    run()\n",
    "```"
   ]
  }
 ],
 "metadata": {
  "jupytext": {
   "formats": "ipynb"
  },
  "kernelspec": {
   "display_name": "Python 3 (ipykernel)",
   "language": "python",
   "name": "python3"
  },
  "language_info": {
   "codemirror_mode": {
    "name": "ipython",
    "version": 3
   },
   "file_extension": ".py",
   "mimetype": "text/x-python",
   "name": "python",
   "nbconvert_exporter": "python",
   "pygments_lexer": "ipython3",
   "version": "3.8.13"
  }
 },
 "nbformat": 4,
 "nbformat_minor": 4
}
