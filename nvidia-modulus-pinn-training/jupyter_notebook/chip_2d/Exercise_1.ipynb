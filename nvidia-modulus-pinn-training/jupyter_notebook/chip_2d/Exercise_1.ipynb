{
 "cells": [
  {
   "cell_type": "markdown",
   "metadata": {},
   "source": [
    "## Problem Statement\n",
    "\n",
    "You will have to use PINNs to solve the fluid flow for the given geometry and flow parameters.\n",
    "\n",
    "A 2D chip is placed inside a 2D channel. The flow enters inlet at $u=1.5\\text{ m/s}$ and exits through the outlet which is a $0 Pa$. All the other walls are treated as no-slip. The kinematic viscosity $(\\nu)$ for the flow is $0.02 \\text{ }m^2/s$ and the density $(\\rho)$ is $1 \\text{ }kg/m^3$. The problem is shown in the figure below.\n",
    "\n",
    "<img src=\"chip_2d_geom.png\" alt=\"Drawing\" style=\"width: 800px;\"/>\n",
    "\n",
    "## Exercise\n",
    "\n",
    "The main objective of this problem is to correctly formulate the problem using PINNs. In order to achieve that, you will have to complete the following parts successfully:\n",
    "1. Define the correct geometry for the problem\n",
    "2. Set up the correct boundary conditions and equations\n",
    "3. Create the neural network and solve the problem\n",
    "\n",
    "A successful completion of the problem should result in distribution of flow variables as shown below. Also, you should aim to achieve a relative $L_2$ error of less than 0.2 for all the variables w.r.t the given OpenFOAM solution. \n",
    "\n",
    "<img src=\"challenge_results.png\" alt=\"Drawing\" style=\"width: 650px;\"/>"
   ]
  },
  {
   "cell_type": "markdown",
   "metadata": {},
   "source": [
    "In this template, we will have given you a skeleton code which you will fill in to define and solve the problem.\n",
    "\n",
    "**Note: You need to edit the [`chip_2d_template.py`](../../source_code/chip_2d/chip_2d_template.py) script that is placed in the `chip_2d/` directory. The config files are already provided to you** \n",
    "\n",
    "Let us start with importing the required packages. Pay attention to the various modules and packages that are being imported, especially the equations, geometry and architectures. "
   ]
  },
  {
   "cell_type": "markdown",
   "metadata": {},
   "source": [
    "```python\n",
    "import numpy as np\n",
    "from sympy import Symbol, Eq\n",
    "\n",
    "import modulus\n",
    "from modulus.hydra import to_absolute_path, ModulusConfig, instantiate_arch\n",
    "from modulus.utils.io import csv_to_dict\n",
    "from modulus.solver import Solver\n",
    "from modulus.domain import Domain\n",
    "from modulus.geometry.primitives_2d import Rectangle, Line, Channel2D\n",
    "from modulus.utils.sympy.functions import parabola\n",
    "from modulus.eq.pdes.navier_stokes import NavierStokes\n",
    "from modulus.eq.pdes.basic import NormalDotVec\n",
    "from modulus.domain.constraint import (\n",
    "    PointwiseBoundaryConstraint,\n",
    "    PointwiseInteriorConstraint,\n",
    "    IntegralBoundaryConstraint,\n",
    ")\n",
    "\n",
    "from modulus.domain.validator import PointwiseValidator\n",
    "from modulus.key import Key\n",
    "from modulus.node import Node\n",
    "```"
   ]
  },
  {
   "cell_type": "markdown",
   "metadata": {},
   "source": [
    "Now, define the Nodes for the computational graph, appropriate PDEs, simulation parameters and generate the geometry. You will be using the `NavierStokes` class from the PDEs module for imposing the PDE constraints of this problem. "
   ]
  },
  {
   "cell_type": "markdown",
   "metadata": {},
   "source": [
    "```python\n",
    "@modulus.main(config_path=\"conf\", config_name=\"config\")\n",
    "def run(cfg: ModulusConfig) -> None:\n",
    "    \n",
    "    #TODO: Replace all the placeholders with appropriate values\n",
    "    # make list of nodes to unroll graph on\n",
    "    ns = NavierStokes(nu=0.02, rho=1.0, dim=2, time=False)\n",
    "    normal_dot_vel = NormalDotVec([\"u\", \"v\"])\n",
    "    flow_net = instantiate_arch(\n",
    "        input_keys=[placeholder],\n",
    "        output_keys=[placeholder],\n",
    "        cfg=cfg.arch.fourier_net,\n",
    "    )\n",
    "    nodes = (\n",
    "        ns.make_nodes()\n",
    "        + normal_dot_vel.make_nodes()\n",
    "        + [flow_net.make_node(name=\"flow_network\", jit=cfg.jit)]\n",
    "    )\n",
    "```"
   ]
  },
  {
   "cell_type": "markdown",
   "metadata": {},
   "source": [
    "Next, you will be using the 2D geometry modules for this example. Please fill in the appropriate values for each geometry. Remember, `Channel2D` and `Rectangle` are defined by its two endpoints. The difference between a channel and rectangle in Modulus is that, the channel geometry does not have bounding curves in the x-direction. This is helpful in getting a signed distance field that is infinite in x-direction. This can be important when the signed distance field is used as a wall distance in some of the turbulence models (Refer [Modulus User Documentation](https://docs.nvidia.com/deeplearning/modulus/text/foundational/zero_eq_turbulence.html) for more details). Hence, we will create the inlet and outlet using `Line` geometry (*Please note that this is a 2d line, as opposed to the* `Line1D` *that was used in the diffusion tutorial*) \n",
    "\n",
    "Also note the `geo_lr` and `geo_hr` as two separate geometries. These are primarily constructed to vary the sampling between different areas of the geometry. The idea of having different sampling density for the points in different areas, allows us to sample more points closer to the heatsink (where we expect a larger variation in the flow field). There are multiple ways in which this variable sampling can be achieved and here we take one of the simplest approach where we create two different geometry elements for the high resolution and low resolution. "
   ]
  },
  {
   "cell_type": "markdown",
   "metadata": {},
   "source": [
    "```python\n",
    "    # add constraints to solver\n",
    "    # simulation params\n",
    "    channel_length = (-2.5, 2.5)\n",
    "    channel_width = (-0.5, 0.5)\n",
    "    chip_pos = -1.0\n",
    "    chip_height = 0.6\n",
    "    chip_width = 1.0\n",
    "    inlet_vel = 1.5\n",
    "\n",
    "    # define sympy variables to parametrize domain curves\n",
    "    x, y = Symbol(\"x\"), Symbol(\"y\")\n",
    "    \n",
    "    #TODO: Replace x1, y1, x2, y2, and X's with appropriate values\n",
    "    \n",
    "    # define geometry\n",
    "    channel = Channel2D(\n",
    "        (channel_length[0], channel_width[0]), (channel_length[1], channel_width[1])\n",
    "    )\n",
    "    inlet = Line(\n",
    "        (x1, y1),\n",
    "        (x1, y2),\n",
    "        normal=1,\n",
    "    )\n",
    "    outlet = Line(\n",
    "        (x2, y1),\n",
    "        (x2, y2),\n",
    "        normal=1,\n",
    "    )\n",
    "    rec = Rectangle(\n",
    "        (x1, y1),\n",
    "        (x2, y2),\n",
    "    )\n",
    "    flow_rec = Rectangle(\n",
    "        (chip_pos - 0.25, channel_width[0]),\n",
    "        (chip_pos + chip_width + 0.25, channel_width[1]),\n",
    "    )\n",
    "    geo = channel - rec\n",
    "    geo_hr = geo & flow_rec\n",
    "    geo_lr = geo - flow_rec\n",
    "```"
   ]
  },
  {
   "cell_type": "markdown",
   "metadata": {},
   "source": [
    "The current problem is a channel flow with an incompressible fluid. In such cases, the mass flow rate through each cross-section of the channel and in turn the volumetric flow is constant. This can be used as an additional constraint in the problem which will help us in improving the speed of convergence. \n",
    "\n",
    "Wherever, possible, using such additional knowledge about the problem can help in better and faster solutions. More examples of this can be found in the [Modulus User Documentation](https://docs.nvidia.com/deeplearning/modulus/text/foundational/scalar_transport.html).   "
   ]
  },
  {
   "cell_type": "markdown",
   "metadata": {},
   "source": [
    "```python\n",
    "    # Optional integral continuity planes to speed up convergence \n",
    "    x_pos = Symbol(\"x_pos\")\n",
    "    integral_line = Line((x_pos, channel_width[0]), (x_pos, channel_width[1]), 1)\n",
    "    x_pos_range = {\n",
    "        x_pos: lambda batch_size: np.full(\n",
    "            (batch_size, 1), np.random.uniform(channel_length[0], channel_length[1])\n",
    "        )\n",
    "    }\n",
    "```"
   ]
  },
  {
   "cell_type": "markdown",
   "metadata": {},
   "source": [
    "Now you will use the created geometry to define the training constraints for the problem. Implement the required boundary conditions and equations below. Remember that you will have to create constraints for both for the boundary condition and to reduce the equation residuals. You can refer to the `NavierStokes` class from the PDEs module to check how the equations are defined, and the keys required for each equation. "
   ]
  },
  {
   "cell_type": "markdown",
   "metadata": {},
   "source": [
    "Now use this understanding to define the problem. An example of the inlet boundary condition is shown. Also, the integral continuity constraint is already coded up for you. "
   ]
  },
  {
   "cell_type": "markdown",
   "metadata": {},
   "source": [
    "```python\n",
    "    #TODO: Replace all the placeholders with appropriate values\n",
    "\n",
    "    # make domain\n",
    "    domain = Domain()\n",
    "\n",
    "    # inlet\n",
    "    inlet_parabola = parabola(y, channel_width[0], channel_width[1], inlet_vel)\n",
    "    inlet = PointwiseBoundaryConstraint(\n",
    "        nodes=nodes,\n",
    "        geometry=inlet,\n",
    "        outvar={\"u\": inlet_parabola, \"v\": 0},\n",
    "        batch_size=cfg.batch_size.inlet,\n",
    "    )\n",
    "    domain.add_constraint(inlet, \"inlet\")\n",
    "\n",
    "    # outlet\n",
    "    outlet = PointwiseBoundaryConstraint(\n",
    "        nodes=nodes,\n",
    "        geometry=outlet,\n",
    "        outvar={placeholder},\n",
    "        batch_size=cfg.batch_size.outlet,\n",
    "        criteria=Eq(x, channel_length[1]),\n",
    "    )\n",
    "    domain.add_constraint(outlet, \"outlet\")\n",
    "\n",
    "    # no slip\n",
    "    no_slip = PointwiseBoundaryConstraint(\n",
    "        nodes=nodes,\n",
    "        geometry=geo,\n",
    "        outvar={placeholder},\n",
    "        batch_size=cfg.batch_size.no_slip,\n",
    "    )\n",
    "    domain.add_constraint(no_slip, \"no_slip\")\n",
    "\n",
    "    # interior lr\n",
    "    interior_lr = PointwiseInteriorConstraint(\n",
    "        nodes=nodes,\n",
    "        geometry=geo_lr,\n",
    "        outvar={placeholder},\n",
    "        batch_size=cfg.batch_size.interior_lr,\n",
    "        bounds={x: channel_length, y: channel_width},\n",
    "        lambda_weighting={placeholder},\n",
    "    )\n",
    "    domain.add_constraint(interior_lr, \"interior_lr\")\n",
    "\n",
    "    # interior hr\n",
    "    interior_hr = PointwiseInteriorConstraint(\n",
    "        nodes=nodes,\n",
    "        geometry=geo_hr,\n",
    "        outvar={placeholder},\n",
    "        batch_size=cfg.batch_size.interior_hr,\n",
    "        bounds={x: channel_length, y: channel_width},\n",
    "        lambda_weighting={placeholder},\n",
    "    )\n",
    "    domain.add_constraint(interior_hr, \"interior_hr\")\n",
    "\n",
    "    # integral continuity\n",
    "    def integral_criteria(invar, params):\n",
    "        sdf = geo.sdf(invar, params)\n",
    "        return np.greater(sdf[\"sdf\"], 0)\n",
    "\n",
    "    integral_continuity = IntegralBoundaryConstraint(\n",
    "        nodes=nodes,\n",
    "        geometry=integral_line,\n",
    "        outvar={\"normal_dot_vel\": 1},\n",
    "        batch_size=cfg.batch_size.num_integral_continuity,\n",
    "        integral_batch_size=cfg.batch_size.integral_continuity,\n",
    "        lambda_weighting={\"normal_dot_vel\": 1},\n",
    "        criteria=integral_criteria,\n",
    "        parameterization=x_pos_range,\n",
    "    )\n",
    "    domain.add_constraint(integral_continuity, \"integral_continuity\")\n",
    "```"
   ]
  },
  {
   "cell_type": "markdown",
   "metadata": {},
   "source": [
    "Now, add validation data to the problem. The `openfoam` directory that contains the solution of same problem using OpenFOAM solver. The CSV file is read in and converted to a dictionary for you. Now, you will have to complete the definition of validators. "
   ]
  },
  {
   "cell_type": "markdown",
   "metadata": {},
   "source": [
    "```python\n",
    "    #TODO: Set the appropriate normalization for the validation data\n",
    "    # The validation data has domain extents of (0,0) to (5,1). Normalize this based on your definition of the domain\n",
    "\n",
    "    # add validation data\n",
    "    mapping = {\"Points:0\": \"x\", \"Points:1\": \"y\", \"U:0\": \"u\", \"U:1\": \"v\", \"p\": \"p\"}\n",
    "    openfoam_var = csv_to_dict(to_absolute_path(\"openfoam/2D_chip_fluid0.csv\"), mapping)\n",
    "    openfoam_var[\"x\"] -= placeholder  # TODO normalize pos\n",
    "    openfoam_var[\"y\"] -= placeholder  # TODO normalize pos\n",
    "    openfoam_invar_numpy = {\n",
    "        key: value for key, value in openfoam_var.items() if key in [\"x\", \"y\"]\n",
    "    }\n",
    "    openfoam_outvar_numpy = {\n",
    "        key: value for key, value in openfoam_var.items() if key in [\"u\", \"v\", \"p\"]\n",
    "    }\n",
    "    openfoam_validator = PointwiseValidator(\n",
    "        invar=placeholder, true_outvar=placeholder, nodes=nodes\n",
    "    )\n",
    "    domain.add_validator(openfoam_validator)\n",
    "```"
   ]
  },
  {
   "cell_type": "markdown",
   "metadata": {},
   "source": [
    "Now, complete the last part of the code by creating the `Solver` to solve the problem. The important hyperparameters of the problem are defined for you in the config file. Feel free to tweak them and observe its behavior on the results and speed of convergence. "
   ]
  },
  {
   "cell_type": "markdown",
   "metadata": {},
   "source": [
    "```python\n",
    "    # make solver\n",
    "    slv = Solver(cfg, domain)\n",
    "\n",
    "    # start solver\n",
    "    slv.solve()\n",
    "\n",
    "\n",
    "if __name__ == \"__main__\":\n",
    "    run()\n",
    "```"
   ]
  },
  {
   "cell_type": "markdown",
   "metadata": {},
   "source": [
    "Once you have completed all the sections of the code in the template script ([`chip_2d_template.py`](../../source_code/chip_2d/chip_2d_template.py)), you can execute it as we have seen in the earlier tutorials. Record your relative L2 errors with respect to the OpenFOAM solution and try to achieve errors for all the variables lower than 0.2. Also try to visualize your results using contour plots by reading in the `.npz` files created in the network checkpoint. "
   ]
  }
 ],
 "metadata": {
  "jupytext": {
   "formats": "ipynb"
  },
  "kernelspec": {
   "display_name": "Python 3 (ipykernel)",
   "language": "python",
   "name": "python3"
  },
  "language_info": {
   "codemirror_mode": {
    "name": "ipython",
    "version": 3
   },
   "file_extension": ".py",
   "mimetype": "text/x-python",
   "name": "python",
   "nbconvert_exporter": "python",
   "pygments_lexer": "ipython3",
   "version": "3.8.13"
  }
 },
 "nbformat": 4,
 "nbformat_minor": 4
}
