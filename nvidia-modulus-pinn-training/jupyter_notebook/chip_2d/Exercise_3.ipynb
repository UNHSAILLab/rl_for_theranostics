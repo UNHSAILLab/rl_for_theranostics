{
 "cells": [
  {
   "cell_type": "markdown",
   "metadata": {},
   "source": [
    "## Problem Statement\n",
    "\n",
    "Use PINNs along with the OpenFOAM data to solve the inverse problem of finding the viscosity of the flow, given the flow field data\n",
    "\n",
    "## Exercise\n",
    "\n",
    "The main objective of this problem is to correctly formulate the problem using PINNs. In order to achieve that, you will have to complete the following parts successfully:\n",
    "1. Assimilate the OpenFOAM data\n",
    "2. Set up the correct equation residuals to minimize\n",
    "3. Create the neural network and solve the inverse problem\n",
    "\n",
    "The viscosity in the OpenFOAM simulation was set to $0.02 \\text{ }m^2/s$. A successful completion of the problem should result in inferring out the same viscosity within 10% error margin. The OpenFOAM data that was used for validation in the previous parts would now be used as a training input. "
   ]
  },
  {
   "cell_type": "markdown",
   "metadata": {},
   "source": [
    "Let us start by importing the required packages and modules\n",
    "\n",
    "**Note: You need to edit the [`chip_2d_inverse_template.py`](../../source_code/chip_2d/chip_2d_inverse_template.py) script that is placed in the `chip_2d/` directory.**"
   ]
  },
  {
   "cell_type": "markdown",
   "metadata": {},
   "source": [
    "```python\n",
    "import torch\n",
    "import numpy as np\n",
    "from sympy import Symbol, Eq\n",
    "\n",
    "import modulus\n",
    "from modulus.hydra import to_absolute_path, ModulusConfig, instantiate_arch\n",
    "from modulus.utils.io import csv_to_dict\n",
    "from modulus.solver import Solver\n",
    "from modulus.domain import Domain\n",
    "from modulus.geometry.primitives_2d import Rectangle, Line, Channel2D\n",
    "from modulus.utils.sympy.functions import parabola\n",
    "from modulus.eq.pdes.navier_stokes import NavierStokes\n",
    "from modulus.eq.pdes.basic import NormalDotVec\n",
    "from modulus.domain.constraint import (\n",
    "    PointwiseConstraint,\n",
    ")\n",
    "from modulus.domain.monitor import PointwiseMonitor\n",
    "from modulus.key import Key\n",
    "from modulus.node import Node\n",
    "```"
   ]
  },
  {
   "cell_type": "markdown",
   "metadata": {},
   "source": [
    "For this problem, since we are interested in only assimilating the OpenFOAM data and getting the inference out of it, you do not need to create the geometry. Also, do not forget to detach the gradients for appropriate variables while setting the equations. "
   ]
  },
  {
   "cell_type": "markdown",
   "metadata": {},
   "source": [
    "```python\n",
    "#TODO: Replace all the placeholders with appropriate values\n",
    "\n",
    "@modulus.main(config_path=\"conf\", config_name=\"config_inverse\")\n",
    "def run(cfg: ModulusConfig) -> None:\n",
    "\n",
    "    # make list of nodes to unroll graph on\n",
    "    ns = NavierStokes(nu=\"nu\", rho=1.0, dim=2, time=False)\n",
    "    flow_net = instantiate_arch(\n",
    "        input_keys=[Key(\"x\"), Key(\"y\")],\n",
    "        output_keys=[Key(\"u\"), Key(\"v\"), Key(\"p\")],\n",
    "        cfg=cfg.arch.fully_connected,\n",
    "    )\n",
    "    inverse_net = instantiate_arch(\n",
    "        input_keys=[Key(\"x\"), Key(\"y\")],\n",
    "        output_keys=[Key(\"nu\")],\n",
    "        cfg=cfg.arch.fully_connected,\n",
    "    )\n",
    "\n",
    "    nodes = (\n",
    "        ns.make_nodes(\n",
    "            detach_names=[placeholder]\n",
    "        )\n",
    "        + [flow_net.make_node(name=\"flow_network\", jit=cfg.jit)]\n",
    "        + [inverse_net.make_node(name=\"inverse_network\", jit=cfg.jit)]\n",
    "    )\n",
    "\n",
    "    # add constraints to solver\n",
    "    # data\n",
    "    mapping = {\"Points:0\": \"x\", \"Points:1\": \"y\", \"U:0\": \"u\", \"U:1\": \"v\", \"p\": \"p\"}\n",
    "    openfoam_var = csv_to_dict(to_absolute_path(\"openfoam/2D_chip_fluid0.csv\"), mapping)\n",
    "    openfoam_var[\"x\"] -= 2.5  # normalize pos\n",
    "    openfoam_var[\"y\"] -= 0.5\n",
    "    openfoam_invar_numpy = {\n",
    "        key: value for key, value in openfoam_var.items() if key in [\"x\", \"y\"]\n",
    "    }\n",
    "    openfoam_outvar_numpy = {\n",
    "        key: value for key, value in openfoam_var.items() if key in [\"u\", \"v\", \"p\"]\n",
    "    }\n",
    "    openfoam_outvar_numpy[\"continuity\"] = placeholder\n",
    "    openfoam_outvar_numpy[\"momentum_x\"] = placeholder\n",
    "    openfoam_outvar_numpy[\"momentum_y\"] = placeholder\n",
    "\n",
    "    # make domain\n",
    "    domain = Domain()\n",
    "\n",
    "    # data and pdes\n",
    "    data = PointwiseConstraint.from_numpy(\n",
    "        nodes=nodes,\n",
    "        invar=openfoam_invar_numpy,\n",
    "        outvar=openfoam_outvar_numpy,\n",
    "        batch_size=cfg.batch_size.data,\n",
    "    )\n",
    "    domain.add_constraint(data, name=\"Data\")\n",
    "```"
   ]
  },
  {
   "cell_type": "markdown",
   "metadata": {},
   "source": [
    "Create monitors for the average viscosity predicted by the model "
   ]
  },
  {
   "cell_type": "markdown",
   "metadata": {},
   "source": [
    "```python\n",
    "    # add monitors\n",
    "    monitor = PointwiseMonitor(\n",
    "        openfoam_invar_numpy,\n",
    "        output_names=[\"nu\"],\n",
    "        metrics={\"mean_nu\": lambda var: torch.mean(var[\"nu\"])},\n",
    "        nodes=nodes,\n",
    "    )\n",
    "    domain.add_monitor(monitor)\n",
    "```"
   ]
  },
  {
   "cell_type": "markdown",
   "metadata": {},
   "source": [
    "Now complete the last part of the code by creating the `Solver` to solve our problem. "
   ]
  },
  {
   "cell_type": "markdown",
   "metadata": {},
   "source": [
    "```python\n",
    "    # make solver\n",
    "    slv = Solver(cfg, domain)\n",
    "\n",
    "    # start solver\n",
    "    slv.solve()\n",
    "\n",
    "\n",
    "if __name__ == \"__main__\":\n",
    "    run()\n",
    "```"
   ]
  }
 ],
 "metadata": {
  "jupytext": {
   "formats": "ipynb"
  },
  "kernelspec": {
   "display_name": "Python 3 (ipykernel)",
   "language": "python",
   "name": "python3"
  },
  "language_info": {
   "codemirror_mode": {
    "name": "ipython",
    "version": 3
   },
   "file_extension": ".py",
   "mimetype": "text/x-python",
   "name": "python",
   "nbconvert_exporter": "python",
   "pygments_lexer": "ipython3",
   "version": "3.8.13"
  }
 },
 "nbformat": 4,
 "nbformat_minor": 4
}
