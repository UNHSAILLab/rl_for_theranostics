{
 "cells": [
  {
   "cell_type": "code",
   "execution_count": null,
   "id": "initial_id",
   "metadata": {
    "collapsed": true,
    "is_executing": true
   },
   "outputs": [],
   "source": [
    "import pandas as pd"
   ]
  },
  {
   "cell_type": "code",
   "outputs": [],
   "source": [
    "directory = '/content/drive/MyDrive/Antibiotic_PBPK_Model/output_files'\n",
    "file_list = os.listdir(directory)\n",
    "file_list = [file for file in file_list if file.endswith('.csv')]\n",
    "df_pbpk = pd.DataFrame()\n",
    "for file in file_list:\n",
    "    file_path = os.path.join(directory, file)\n",
    "    temp_df = pd.read_csv(file_path)\n",
    "    temp_df['FileName']=str(file)\n",
    "    df_pbpk = pd.concat([df_pbpk, temp_df], ignore_index=True)\n"
   ],
   "metadata": {
    "collapsed": false
   },
   "id": "c672a84a63a2f831"
  }
 ],
 "metadata": {
  "kernelspec": {
   "display_name": "Python 3",
   "language": "python",
   "name": "python3"
  },
  "language_info": {
   "codemirror_mode": {
    "name": "ipython",
    "version": 2
   },
   "file_extension": ".py",
   "mimetype": "text/x-python",
   "name": "python",
   "nbconvert_exporter": "python",
   "pygments_lexer": "ipython2",
   "version": "2.7.6"
  }
 },
 "nbformat": 4,
 "nbformat_minor": 5
}
