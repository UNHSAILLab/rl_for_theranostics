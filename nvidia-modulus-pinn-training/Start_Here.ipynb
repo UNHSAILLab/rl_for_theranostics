{
 "cells": [
  {
   "cell_type": "markdown",
   "metadata": {},
   "source": [
    "# Welcome to Introduction to Physics-Informed Machine Learning with Modulus"
   ]
  },
  {
   "cell_type": "markdown",
   "metadata": {},
   "source": [
    "The objective of this course is to provide an outlook of the Modulus toolkit and see how it can be used to set up physics and data-driven problems with ease in the areas of science and high performance computing (HPC) simulations. \n",
    "\n",
    "This session will introduce participants to Physics Informed Neural Networks (PINNs) and the family of Fourier Neural Operators (FNOs) with help of NVIDIA's Modulus toolkit.\n",
    "\n",
    "1. [Introductory Notebook](nvidia-modulus-pinn-training/jupyter_notebook/introduction/Introductory_Notebook.ipynb) : In this notebook we will see an introduction to the theory of solving PDEs using Physics Informed Neural Networks.\n",
    "\n",
    "1. [Anatomy of a Modulus Project](jupyter_notebook/introduction/Modulus_Anatomy.ipynb) : In this notebook we will introduce the structure and steps for building a Modulus project.\n",
    "\n",
    "1. [Parameterized and Inverse Problems](jupyter_notebook/introduction/Parameterized_Inverse.ipynb) : In this notebook we will turn our attention to a key advantage of neural network solvers over traditional numerical methods, namely, the ability to solve parameterized geometries and inverse problems.\n",
    "\n",
    "1. [Solving PDEs using PINNs](jupyter_notebook/diffusion_1d/Diffusion_Problem_Notebook.ipynb)  : This notebook will dive into the Modulus APIs in detail and give you a head start in solving your own Partial Differential Equations (PDEs) using neural networks.\n",
    "\n",
    "1. [Solving PDEs using PINNs - Parameterized](jupyter_notebook/diffusion_1d/Diffusion_Problem_Parameterized.ipynb)  : This notebook will train the same 1D diffusion problem as the previous notebook, this time using parameterization.\n",
    "\n",
    "1. [Solving Transient Problems](jupyter_notebook/spring_mass/Spring_Mass_Problem_Notebook.ipynb) : In this notebook we will see how to easily solve transient problems over small time intervals by treating time as a continuous variable.\n",
    "\n",
    "1. [Solving Inverse Transient Problems](jupyter_notebook/spring_mass/Spring_Mass_Inverse.ipynb) :  In this notebook we will cover how to solve inverse problems, continuing with the spring mass problem from the previous notebook.\n",
    "\n",
    "1. [Darcy Flow using Fourier Neural Operators](jupyter_notebook/Operators/FNO_Darcy.ipynb) : In this notebook we will see how to use the Fourier Neural Operators within Modulus for solving data-driven problems.\n",
    "\n",
    "1. [Flow Over a 2D Chip](jupyter_notebook/chip_2d/Challenge_CFD_Problem_Notebook.ipynb) : This notebook contains a small exercise to solve a fluid mechanics problem involving a solution to the Navier-Stokes equations using the PINN approach."
   ]
  },
  {
   "cell_type": "markdown",
   "metadata": {},
   "source": [
    "# What is Modulus?\n",
    "\n",
    "NVIDIA Modulus is a neural network framework that blends the power of physics in the form of governing partial differential equations (PDEs) with data to build high-fidelity, parameterized surrogate models with near-real-time latency.\n",
    "\n",
    "<img src=\"figures/modulus_solutions.png\" alt=\"Drawing\" style=\"width: 900px;\"/>"
   ]
  },
  {
   "cell_type": "markdown",
   "metadata": {},
   "source": [
    "### Key Features of Modulus\n",
    "\n",
    "**AI Toolkit:**\n",
    "Offers building blocks for developing physics ML surrogate models.\n",
    "\n",
    "**Scalable Performance:**\n",
    "Solves larger problems faster by scaling from single-GPU to multi-node implementations. \n",
    "\n",
    "**Near-Real-Time Inference:**\n",
    "Provides parameterized system representation that solves for multiple scenarios in near real time; trains once offline to infer in real time repeatedly. \n",
    "\n",
    "**Easy to Adopt:**\n",
    "Includes APIs for domain experts to work at a higher level of abstraction; extensible to new applications with reference applications serving as starting points. \n"
   ]
  }
 ],
 "metadata": {
  "jupytext": {
   "formats": "ipynb"
  },
  "kernelspec": {
   "display_name": "Python 3 (ipykernel)",
   "language": "python",
   "name": "python3"
  },
  "language_info": {
   "codemirror_mode": {
    "name": "ipython",
    "version": 3
   },
   "file_extension": ".py",
   "mimetype": "text/x-python",
   "name": "python",
   "nbconvert_exporter": "python",
   "pygments_lexer": "ipython3",
   "version": "3.8.13"
  }
 },
 "nbformat": 4,
 "nbformat_minor": 4
}
