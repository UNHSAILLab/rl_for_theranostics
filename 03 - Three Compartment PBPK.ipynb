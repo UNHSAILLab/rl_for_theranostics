{
 "cells": [
  {
   "cell_type": "code",
   "execution_count": 1,
   "metadata": {},
   "outputs": [],
   "source": [
    "import pandas as pd\n",
    "from pysb import *\n",
    "from pysb.macros import bind\n",
    "from pysb.macros import degrade\n",
    "import pysb.pkpd as pkpd\n",
    "from pysb.simulator import ScipyOdeSimulator\n",
    "import numpy as np\n",
    "import matplotlib.pyplot as plt\n"
   ]
  },
  {
   "cell_type": "markdown",
   "metadata": {},
   "source": [
    "## Compartmental Models in Pharmacokinetics: A Concise Summary\n",
    "\n",
    "Pharmacokinetics describes how drugs move through the body. One way to analyze this movement is with compartmental models, which imagine the body as a series of interconnected compartments. Each compartment represents a group of tissues with similar drug distribution properties.\n",
    "\n",
    "**Different models for different complexities:**\n",
    "\n",
    "* **One-compartment model:** Simplest model, assuming the drug distributes quickly and uniformly throughout the body (e.g., water-soluble drugs).\n",
    "* **Two-compartment model:** Splits the body into a central compartment (blood and well-perfused organs) and a peripheral compartment (less perfused tissues). Useful for drugs that take longer to reach certain tissues.\n",
    "* **Three-compartment model:** Adds a second peripheral compartment for drugs with multiple distribution phases or slower penetration into certain tissues.\n",
    "\n",
    "**Key points to remember:**\n",
    "\n",
    "* Compartments are theoretical constructs for studying drug distribution, not actual anatomical units.\n",
    "* Choosing the right model depends on the drug's distribution properties and plasma concentration-time profile.\n",
    "* Some models include an \"Effect compartment\" to link drug concentration with its actual effects.\n",
    "* More complex models, like PBPK, use many compartments to represent detailed tissue-specific distribution.\n"
   ]
  },
  {
   "cell_type": "markdown",
   "metadata": {},
   "source": [
    "### PK Concept\n",
    "\n",
    "1. **Dose/Dosage**: \n",
    "   - _Dose_ refers to the amount of drug administered at a specific time.\n",
    "   - _Dosage_ is about multiple doses taken over time with a set frequency.\n",
    "   - The route of administration (e.g., oral vs. intravenous) is vital in determining the appropriate dose or dosage.\n",
    "\n",
    "2. **Bioavailability ($\\beta$)**: \n",
    "   - Represents the fraction of a drug dose that gets absorbed and reaches the action site.\n",
    "   - Particularly relevant for oral administration, where not all the drug enters the circulation.\n",
    "\n",
    "3. **Volume of Distribution ($V_d$)**: \n",
    "   - A theoretical volume in which a drug is distributed to yield a measured plasma concentration.\n",
    "   - Provides insights into whether a drug stays in plasma or disperses into tissues.\n",
    "   - Not a fixed value and varies depending on the compartment model used.\n",
    "\n",
    "4. **Elimination**: \n",
    "   - The process of removing the drug from the body, typically through metabolism and excretion.\n",
    "   - Often modeled as a linear process with first-order kinetics.\n",
    "\n",
    "5. **Clearance (CL)**: \n",
    "   - Defined as the volume of plasma cleared of the drug per unit time.\n",
    "   - Can also be expressed as the rate of drug elimination divided by the drug's plasma concentration.\n",
    "   - In compartmental models, clearance is linked with a first-order rate constant.\n",
    "\n",
    "### PD Functions:\n",
    "\n",
    "1. **Emax**: \n",
    "   - Relates drug concentration to effect using a non-linear sigmoid function.\n",
    "   - Described as $E = E_{max} \\left[Drug\\right] / (\\left[Drug\\right] + EC_{50})$, where $E_{max}$ is the maximum effect and $EC_{50}$ is the half-maximum concentration.\n",
    "   - Can include a baseline effect, modifying the equation accordingly.\n",
    "\n",
    "2. **Sigmoidal Emax**: \n",
    "   - A generalized form of the Emax function.\n",
    "   - Expressed as $E = E_{max} \\left[Drug\\right]^n / (\\left[Drug\\right]^n + EC_{50}^n)$, with $n$ being the Hill slope.\n",
    "   - Can also account for a baseline effect.\n",
    "\n",
    "Other PD functions include:\n",
    "   \n",
    "- **Linear Effect Model**: Direct linear relationship between drug concentration and effect.\n",
    "- **Log-linear Effect Model**: Effect varies linearly with the logarithm of drug concentration.\n",
    "- **Fixed-Effect Model**: Fixed effect magnitude occurring beyond a certain drug concentration threshold."
   ]
  },
  {
   "cell_type": "markdown",
   "metadata": {},
   "source": [
    "PD-1, short for Programmed Death-1, is a protein that plays a significant role in regulating the immune system's response to cells in the human body. It is a type of protein known as a checkpoint protein, which is found on the surface of certain immune cells called T cells. \n",
    "\n",
    "### Function:\n",
    "PD-1 acts as an immune checkpoint, meaning it is crucial in preventing the immune system from attacking normal cells in the body. It does this by delivering inhibitory signals to the T cells when it binds to its ligands (PD-L1 or PD-L2), which are often found on the surface of healthy cells. This interaction effectively tells the T cells to ignore the normal, healthy cells, thus preventing an autoimmune response.\n",
    "\n",
    "### Clinical Significance:\n",
    "1. **Cancer Therapy**: Many cancer cells express PD-L1, the ligand for PD-1, allowing them to evade the immune system by inhibiting T cell function. This has led to the development of PD-1 inhibitors, a class of drugs called immune checkpoint inhibitors, used in cancer immunotherapy. These drugs block PD-1, preventing it from binding to PD-L1 on cancer cells, thereby enabling the immune system to recognize and destroy these cancer cells.\n",
    "\n",
    "2. **Autoimmune Diseases**: Since PD-1 plays a role in preventing autoimmune reactions, it is also of interest in the study and treatment of autoimmune diseases. Alterations in the PD-1 pathway can contribute to the development of autoimmune disorders.\n",
    "\n",
    "### Examples of PD-1 Inhibitors:\n",
    "- Pembrolizumab (Keytruda)\n",
    "- Nivolumab (Opdivo)\n",
    "\n",
    "These inhibitors have been successful in treating various types of cancer, including melanoma, non-small cell lung cancer, and more, by enhancing the immune system's ability to fight cancer."
   ]
  },
  {
   "cell_type": "markdown",
   "metadata": {},
   "source": [
    "## Summary of the case study on Pembrolizumab (Pembro) and its target occupancy modeling:\n",
    "[Study on Pembrolizumab (Pembro) and Target Occupancy](https://info.appliedbiomath.com/hubfs/Case%20Studies/Applied%20BioMath_Inferring%20TO_Pembro_Case%20Study.pdf)\n",
    "### Background\n",
    "- **Drug**: Pembrolizumab (Pembro), an anti-PD-1 antibody.\n",
    "- **Indications**: Approved for various cancer treatments.\n",
    "- **Dosage**: Administered as 200 mg or 2 mg/kg intravenously every three weeks (Q3W).\n",
    "- **Challenge**: Determining the percent target receptor occupancy (RO) for PD-1, which is difficult through direct experimental measurements.\n",
    "\n",
    "### Results\n",
    "- **Model Development**: A semi-mechanistic Pharmacokinetic Receptor Occupancy (PKRO) model was created to fit phase 1 PK data of Pembro.\n",
    "- **RO Predictions**: The model predicted that varying the concentration of soluble PD-1 (sPD-1) does not significantly affect PD-1 RO in the tumor for the clinically approved dose of 2 mg/kg Q3W.\n",
    "- **Parameter Sensitivity**: Exploring the impact of Kd (dissociation constant) and the drug:PD-1 turnover rate. The model remained robust (> 90% RO) even when these parameters varied by 10-fold.\n",
    "\n",
    "### Model Diagram and Mechanics\n",
    "- **Compartments**: The Quantitative Systems Pharmacology (QSP) model incorporated three compartments - tumor, circulation (Central), and other organs/tissues (Peripheral).\n",
    "- **Mechanisms**:\n",
    "  1. Binding of the drug to PD-1 and sPD-1.\n",
    "  2. PD-1 receptor turnover.\n",
    "  3. Internalization and clearance of the drug:PD-1 complex.\n",
    "  4. Clearance of free drug and drug:sPD-1 complex.\n",
    "- **PD-L1 Expression**: Limited to the tumor compartment.\n",
    "\n",
    "### Conclusion\n",
    "- **PD-1 Expression**: Predicted to be around 10.8 pM in circulation without soluble PD-1. Higher expression is predicted in the presence of sPD-1, reflecting non-linear PK.\n",
    "- **RO Predictions**: \n",
    "  - For 2 mg/kg IV Q3W dosing, Pembro showed > 98% RO in the tumor compartment across different sPD-1 concentrations.\n",
    "  - Variations in Kd or the half-life of the mAb-PD1 complex did not significantly impact the high level of PD-1 occupancy (> 90% at steady state) with the standard 2 mg/kg Q3W dose. \n",
    "\n",
    "This model serves as an important tool for dose selection in anti-PD-1 combination studies and the development of other anti-PD-1 drugs."
   ]
  },
  {
   "cell_type": "code",
   "execution_count": 2,
   "metadata": {},
   "outputs": [
    {
     "data": {
      "text/plain": [
       "<Model 'pembro_pd' (monomers: 0, rules: 0, parameters: 0, expressions: 0, compartments: 0, energypatterns: 0) at 0x1610d8850>"
      ]
     },
     "execution_count": 2,
     "metadata": {},
     "output_type": "execute_result"
    }
   ],
   "source": [
    "Model(name='pembro_pd')"
   ]
  },
  {
   "cell_type": "code",
   "execution_count": 3,
   "metadata": {},
   "outputs": [
    {
     "data": {
      "text/plain": [
       "ComponentSet([\n",
       " Compartment(name='CENTRAL', parent=None, dimension=3, size=V_CENTRAL),\n",
       " Compartment(name='PERIPHERAL', parent=None, dimension=3, size=V_PERIPHERAL),\n",
       " Compartment(name='TUMOR', parent=None, dimension=3, size=V_TUMOR),\n",
       " Parameter('V_CENTRAL', 1.0),\n",
       " Parameter('V_PERIPHERAL', 1.0),\n",
       " Parameter('V_TUMOR', 1.0),\n",
       " ])"
      ]
     },
     "execution_count": 3,
     "metadata": {},
     "output_type": "execute_result"
    }
   ],
   "source": [
    "pkpd.three_compartments(c3_name='TUMOR')"
   ]
  },
  {
   "cell_type": "markdown",
   "metadata": {},
   "source": [
    "In PySB, a monomer is a basic building block used to model a molecule, typically a protein or a drug. Monomers can have binding sites that allow them to interact with other monomers, forming complexes."
   ]
  },
  {
   "cell_type": "code",
   "execution_count": 4,
   "metadata": {},
   "outputs": [
    {
     "data": {
      "text/plain": [
       "Monomer('Pembro', ['b'])"
      ]
     },
     "execution_count": 4,
     "metadata": {},
     "output_type": "execute_result"
    }
   ],
   "source": [
    "Monomer(\"Pembro\", ['b'])"
   ]
  },
  {
   "cell_type": "code",
   "execution_count": 5,
   "metadata": {},
   "outputs": [
    {
     "data": {
      "text/plain": [
       "Monomer('PD1', ['b'])"
      ]
     },
     "execution_count": 5,
     "metadata": {},
     "output_type": "execute_result"
    }
   ],
   "source": [
    "Monomer(\"PD1\", ['b'])"
   ]
  },
  {
   "cell_type": "code",
   "execution_count": 6,
   "metadata": {},
   "outputs": [
    {
     "data": {
      "text/plain": [
       "Monomer('sPD1', ['b'])"
      ]
     },
     "execution_count": 6,
     "metadata": {},
     "output_type": "execute_result"
    }
   ],
   "source": [
    "Monomer(\"sPD1\", ['b'])"
   ]
  },
  {
   "cell_type": "code",
   "execution_count": 7,
   "metadata": {},
   "outputs": [
    {
     "data": {
      "text/plain": [
       "Monomer('PDL1', ['b'])"
      ]
     },
     "execution_count": 7,
     "metadata": {},
     "output_type": "execute_result"
    }
   ],
   "source": [
    "Monomer(\"PDL1\", ['b'])"
   ]
  },
  {
   "cell_type": "markdown",
   "metadata": {},
   "source": [
    "pkpd.distribute is a function provided by the PySB pkpd extension. This function is used to model the reversible transfer of a substance (like a drug) between two different compartments in a PK/PD model."
   ]
  },
  {
   "cell_type": "code",
   "execution_count": 8,
   "metadata": {},
   "outputs": [
    {
     "data": {
      "text/plain": [
       "ComponentSet([\n",
       " Rule('distribute_Pembro_CENTRAL_to_TUMOR', Pembro(b=None) ** CENTRAL | Pembro(b=None) ** TUMOR, distribute_Pembro_CENTRAL_to_TUMOR_kf, distribute_Pembro_CENTRAL_to_TUMOR_kr),\n",
       " Parameter('distribute_Pembro_CENTRAL_to_TUMOR_kf', 2e-06),\n",
       " Parameter('distribute_Pembro_CENTRAL_to_TUMOR_kr', 6e-05),\n",
       " ])"
      ]
     },
     "execution_count": 8,
     "metadata": {},
     "output_type": "execute_result"
    }
   ],
   "source": [
    "pkpd.distribute(Pembro(b=None), CENTRAL, PERIPHERAL, [5e-5, 1e-3])\n",
    "pkpd.eliminate(Pembro(b=WILD), CENTRAL, 3e-6) \n",
    "pkpd.distribute(Pembro(b=None), CENTRAL, TUMOR, [2e-6, 6e-5])"
   ]
  },
  {
   "cell_type": "markdown",
   "metadata": {},
   "source": [
    " **Arguments of the `bind` Function:**\n",
    "   - `Pembro`: This is the first monomer in the binding interaction, representing Pembrolizumab. It has a binding site labeled 'b'.\n",
    "   - `'b'`: This is the name of the binding site on Pembrolizumab where the interaction will occur.\n",
    "   - `PD1`: The second monomer, representing the PD1 receptor, which Pembrolizumab will bind to. It also has a binding site named 'b'.\n",
    "   - `'b'`: This is the name of the binding site on the PD1 receptor.\n",
    "   - `[5e-4, 8e-3]`: These are the kinetic rate constants for the binding interaction. The first value (`5e-4`) is the forward rate constant for the binding of Pembro to PD1, and the second value (`8e-3`) is the reverse rate constant for the dissociation of the Pembro-PD1 complex."
   ]
  },
  {
   "cell_type": "code",
   "execution_count": 9,
   "metadata": {},
   "outputs": [
    {
     "data": {
      "text/plain": [
       "ComponentSet([\n",
       " Rule('bind_PD1_PDL1', PD1(b=None) ** TUMOR + PDL1(b=None) ** TUMOR | PD1(b=1) ** TUMOR % PDL1(b=1) ** TUMOR, bind_PD1_PDL1_kf, bind_PD1_PDL1_kr),\n",
       " Parameter('bind_PD1_PDL1_kf', 1e-07),\n",
       " Parameter('bind_PD1_PDL1_kr', 0.01),\n",
       " ])"
      ]
     },
     "execution_count": 9,
     "metadata": {},
     "output_type": "execute_result"
    }
   ],
   "source": [
    "bind(Pembro, 'b', PD1, 'b', [5e-4, 8e-3])\n",
    "bind(Pembro, 'b', sPD1, 'b', [5e-4, 8e-3])\n",
    "bind(PD1(b=None)**TUMOR, 'b', PDL1(b=None)**TUMOR, 'b', [1e-7, 1e-2])"
   ]
  },
  {
   "cell_type": "code",
   "execution_count": 12,
   "metadata": {},
   "outputs": [],
   "source": [
    "pd1_all = (PD1(b=None)**CENTRAL + PD1(b=None)**PERIPHERAL + PD1(b=None)**TUMOR)"
   ]
  },
  {
   "cell_type": "code",
   "execution_count": 13,
   "metadata": {},
   "outputs": [
    {
     "data": {
      "text/plain": [
       "Rule('PD1_synth', None >> PD1(b=None) ** CENTRAL + PD1(b=None) ** PERIPHERAL + PD1(b=None) ** TUMOR, k_PD1_synth)"
      ]
     },
     "execution_count": 13,
     "metadata": {},
     "output_type": "execute_result"
    }
   ],
   "source": [
    "#zero-order rate constant for the synthesis of PD1 protein\n",
    "Parameter(\"k_PD1_synth\", 3e-6)\n",
    "#rule for the synthesis of PD1 protein\n",
    "Rule(\"PD1_synth\", None >> pd1_all, k_PD1_synth)"
   ]
  },
  {
   "cell_type": "code",
   "execution_count": 14,
   "metadata": {},
   "outputs": [
    {
     "data": {
      "text/plain": [
       "ComponentSet([\n",
       " Rule('degrade_PD1WILD', PD1(b=WILD) >> None, degrade_PD1WILD_k),\n",
       " Parameter('degrade_PD1WILD_k', 3e-06),\n",
       " ])"
      ]
     },
     "execution_count": 14,
     "metadata": {},
     "output_type": "execute_result"
    }
   ],
   "source": [
    "degrade(PD1(b=WILD), 3e-6)"
   ]
  },
  {
   "cell_type": "code",
   "execution_count": 16,
   "metadata": {},
   "outputs": [
    {
     "data": {
      "text/plain": [
       "ComponentSet([\n",
       " Rule('absorb_Pembro_CENTRAL', Pembro_CENTRAL_precursor() ** CENTRAL >> Pembro(b=None) ** CENTRAL, absorb_Pembro_CENTRAL_ka),\n",
       " Parameter('absorb_Pembro_CENTRAL_ka', 0.003),\n",
       " Parameter('dose_Pembro_CENTRAL', 2000.0),\n",
       " Expression('expr_Pembro_CENTRAL_dose', dose_Pembro_CENTRAL/V_CENTRAL),\n",
       " Parameter('ka_Pembro_CENTRAL', 0.003),\n",
       " Parameter('F_Pembro_CENTRAL', 1.0),\n",
       " Monomer('Pembro_CENTRAL_precursor'),\n",
       " ])"
      ]
     },
     "execution_count": 16,
     "metadata": {},
     "output_type": "execute_result"
    }
   ],
   "source": [
    "pkpd.dose_absorbed\n",
    "pkpd.dose_absorbed(Pembro(b=None), CENTRAL, 2000.0, 3e-3, 1.0)"
   ]
  },
  {
   "cell_type": "code",
   "execution_count": 17,
   "metadata": {},
   "outputs": [
    {
     "data": {
      "text/latex": [
       "$\\displaystyle Pembro_{PERIPHERAL}$"
      ],
      "text/plain": [
       "Observable('Pembro_PERIPHERAL', Pembro(b=WILD) ** PERIPHERAL)"
      ]
     },
     "execution_count": 17,
     "metadata": {},
     "output_type": "execute_result"
    }
   ],
   "source": [
    "Parameter('PD1_CP0', 0.1)\n",
    "Initial(PD1(b=None)**CENTRAL, PD1_CP0)\n",
    "Initial(PD1(b=None)**PERIPHERAL, PD1_CP0)\n",
    "Parameter('PD1_T0', 0.083)\n",
    "Initial(PD1(b=None)**TUMOR, PD1_T0)\n",
    "\n",
    "Parameter('sPD1_0', 0.0415)\n",
    "Initial(sPD1(b=None)**CENTRAL, sPD1_0)\n",
    "Initial(sPD1(b=None)**PERIPHERAL, sPD1_0)\n",
    "Initial(sPD1(b=None)**TUMOR, sPD1_0)\n",
    "\n",
    "Parameter('PDL1_0', 0.010)\n",
    "Initial(PDL1(b=None)**TUMOR, PDL1_0)\n",
    "\n",
    "Observable(\"Pembro_PD1_TUMOR\", Pembro(b=ANY)**TUMOR % PD1(b=ANY)**TUMOR)\n",
    "Observable(\"PD1_TUMOR\", PD1(b=WILD)**TUMOR)\n",
    "Expression(\"RO_TUMOR\", 100 * Pembro_PD1_TUMOR / PD1_TUMOR) \n",
    "Observable(\"Pembro_CENTRAL\", Pembro(b=WILD)**CENTRAL)\n",
    "Observable(\"Pembro_TUMOR\", Pembro(b=WILD)**TUMOR)\n",
    "Observable(\"Pembro_PERIPHERAL\", Pembro(b=WILD)**PERIPHERAL)"
   ]
  },
  {
   "cell_type": "code",
   "execution_count": 18,
   "metadata": {},
   "outputs": [
    {
     "name": "stderr",
     "output_type": "stream",
     "text": [
      "ld: warning: duplicate -rpath '/Users/tbin/anaconda3/envs/explore/lib' ignored\n"
     ]
    }
   ],
   "source": [
    "sim = ScipyOdeSimulator(pembro_pd)\n",
    "tspan = np.arange(0, 86400 * 8, 10)"
   ]
  },
  {
   "cell_type": "code",
   "execution_count": 19,
   "metadata": {},
   "outputs": [],
   "source": [
    "out = sim.run(tspan=tspan).all"
   ]
  },
  {
   "cell_type": "code",
   "execution_count": 20,
   "metadata": {},
   "outputs": [
    {
     "data": {
      "text/plain": [
       "array([  0.        ,  59.09265255, 116.40667235, ..., 271.38325107,\n",
       "       271.37572316, 271.36819546])"
      ]
     },
     "execution_count": 20,
     "metadata": {},
     "output_type": "execute_result"
    }
   ],
   "source": [
    "out['Pembro_CENTRAL']"
   ]
  },
  {
   "cell_type": "code",
   "execution_count": 28,
   "metadata": {},
   "outputs": [],
   "source": [
    "df_out=pd.DataFrame(out)"
   ]
  },
  {
   "cell_type": "code",
   "execution_count": 33,
   "metadata": {},
   "outputs": [
    {
     "data": {
      "text/plain": [
       "Index(['__s0', '__s1', '__s2', '__s3', '__s4', '__s5', '__s6', '__s7', '__s8',\n",
       "       '__s9', '__s10', '__s11', '__s12', '__s13', '__s14', '__s15', '__s16',\n",
       "       '__s17', 'Pembro_PD1_TUMOR', 'PD1_TUMOR', 'Pembro_CENTRAL',\n",
       "       'Pembro_TUMOR', 'Pembro_PERIPHERAL', 'RO_TUMOR'],\n",
       "      dtype='object')"
      ]
     },
     "execution_count": 33,
     "metadata": {},
     "output_type": "execute_result"
    }
   ],
   "source": [
    "df_out.columns"
   ]
  },
  {
   "cell_type": "code",
   "execution_count": null,
   "metadata": {},
   "outputs": [],
   "source": [
    "df_out['']"
   ]
  },
  {
   "cell_type": "code",
   "execution_count": 32,
   "metadata": {},
   "outputs": [
    {
     "data": {
      "text/plain": [
       "69120"
      ]
     },
     "execution_count": 32,
     "metadata": {},
     "output_type": "execute_result"
    }
   ],
   "source": [
    "len(tspan / 86400)"
   ]
  },
  {
   "cell_type": "code",
   "execution_count": 29,
   "metadata": {},
   "outputs": [
    {
     "data": {
      "text/plain": [
       "Index(['__s0', '__s1', '__s2', '__s3', '__s4', '__s5', '__s6', '__s7', '__s8',\n",
       "       '__s9', '__s10', '__s11', '__s12', '__s13', '__s14', '__s15', '__s16',\n",
       "       '__s17', 'Pembro_PD1_TUMOR', 'PD1_TUMOR', 'Pembro_CENTRAL',\n",
       "       'Pembro_TUMOR', 'Pembro_PERIPHERAL', 'RO_TUMOR'],\n",
       "      dtype='object')"
      ]
     },
     "execution_count": 29,
     "metadata": {},
     "output_type": "execute_result"
    }
   ],
   "source": [
    "df_out.columns"
   ]
  },
  {
   "cell_type": "code",
   "execution_count": 21,
   "metadata": {},
   "outputs": [
    {
     "data": {
      "image/png": "[encoded data removed]",
      "text/plain": [
       "<Figure size 640x480 with 1 Axes>"
      ]
     },
     "metadata": {},
     "output_type": "display_data"
    }
   ],
   "source": [
    "tspan_day = tspan / 86400\n",
    "plt.plot(tspan_day, out['Pembro_CENTRAL'], label='Central')\n",
    "plt.plot(tspan_day, out['Pembro_PERIPHERAL'], label='Peripheral')\n",
    "plt.plot(tspan_day, out['Pembro_TUMOR'], label='Tumor')\n",
    "plt.xlabel(\"Time (days)\")\n",
    "plt.ylabel(\"Concentration (nM)\")\n",
    "plt.legend(loc=0)\n",
    "plt.yscale('log')"
   ]
  },
  {
   "cell_type": "markdown",
   "metadata": {},
   "source": [
    "https://www.mathworks.com/help/simbio/ug/generate-virtual-population.html#VirtualPatientsSimBiologyModelAnalyzerExample-6"
   ]
  }
 ],
 "metadata": {
  "kernelspec": {
   "display_name": "explore",
   "language": "python",
   "name": "python3"
  },
  "language_info": {
   "codemirror_mode": {
    "name": "ipython",
    "version": 3
   },
   "file_extension": ".py",
   "mimetype": "text/x-python",
   "name": "python",
   "nbconvert_exporter": "python",
   "pygments_lexer": "ipython3",
   "version": "3.10.13"
  }
 },
 "nbformat": 4,
 "nbformat_minor": 2
}
