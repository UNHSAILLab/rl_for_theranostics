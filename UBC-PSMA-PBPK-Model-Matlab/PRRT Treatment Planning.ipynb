{
 "cells": [
  {
   "cell_type": "markdown",
   "source": [
    "Peptide Receptor Radionuclide Therapy (PRRT) is a molecular therapy used for treating neuroendocrine tumors. It involves targeting tumor cells with peptides that bind to somatostatin receptors, which are often overexpressed in these tumors.\n",
    "\n",
    "## Radiobiological Concepts\n",
    "\n",
    "### Linear-Quadratic (LQ) Model\n",
    "\n",
    "The LQ model describes the response of cells to radiation based on two types of damage:\n",
    "\n",
    "- **Linear Damage (α)**: Proportional to the dose.\n",
    "- **Quadratic Damage (β)**: Proportional to the square of the dose.\n",
    "\n",
    "The cell survival fraction (SF) can be calculated as:\n",
    "\n",
    "```math\n",
    "SF = e^{-\u0007lpha D - \beta D^2}\n",
    "```"
   ],
   "metadata": {
    "collapsed": false
   },
   "id": "51bd82d05caaf6e4"
  },
  {
   "cell_type": "code",
   "execution_count": 1,
   "id": "initial_id",
   "metadata": {
    "collapsed": true,
    "ExecuteTime": {
     "end_time": "2024-02-09T00:07:34.774660Z",
     "start_time": "2024-02-09T00:07:34.766976Z"
    }
   },
   "outputs": [
    {
     "name": "stdout",
     "output_type": "stream",
     "text": [
      "Estimated value of π: 3.1396\n"
     ]
    }
   ],
   "source": [
    "import random\n",
    "\n",
    "def estimate_pi(num_samples):\n",
    "    inside_circle = 0\n",
    "    for _ in range(num_samples):\n",
    "        x, y = random.random(), random.random() # Randomly generate point\n",
    "        distance = x**2 + y**2 # Calculate distance from the origin\n",
    "        if distance <= 1: # Check if the point is inside the quarter circle\n",
    "            inside_circle += 1\n",
    "    pi_estimate = 4 * inside_circle / num_samples # Estimate of π\n",
    "    return pi_estimate\n",
    "\n",
    "# Using 10,000 samples for estimation\n",
    "pi_estimate = estimate_pi(10000)\n",
    "print(f\"Estimated value of π: {pi_estimate}\")\n"
   ]
  },
  {
   "cell_type": "code",
   "execution_count": null,
   "outputs": [],
   "source": [],
   "metadata": {
    "collapsed": false
   },
   "id": "f10acf9ce299e792"
  }
 ],
 "metadata": {
  "kernelspec": {
   "display_name": "Python 3",
   "language": "python",
   "name": "python3"
  },
  "language_info": {
   "codemirror_mode": {
    "name": "ipython",
    "version": 2
   },
   "file_extension": ".py",
   "mimetype": "text/x-python",
   "name": "python",
   "nbconvert_exporter": "python",
   "pygments_lexer": "ipython2",
   "version": "2.7.6"
  }
 },
 "nbformat": 4,
 "nbformat_minor": 5
}
