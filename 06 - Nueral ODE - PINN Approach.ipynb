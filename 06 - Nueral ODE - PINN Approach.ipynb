{
 "cells": [
  {
   "cell_type": "code",
   "execution_count": 33,
   "id": "initial_id",
   "metadata": {
    "collapsed": true,
    "ExecuteTime": {
     "end_time": "2024-02-22T04:36:33.307542Z",
     "start_time": "2024-02-22T04:36:33.297854Z"
    }
   },
   "outputs": [],
   "source": [
    "import numpy as np\n",
    "from scipy.integrate import solve_ivp\n",
    "from matplotlib import pyplot as plt\n",
    "from sklearn.model_selection import train_test_split\n",
    "import torch\n",
    "import torch.nn as nn\n",
    "from torch.utils.data import TensorDataset, DataLoader\n",
    "from torchdiffeq import odeint"
   ]
  },
  {
   "cell_type": "code",
   "execution_count": 4,
   "outputs": [],
   "source": [
    "def pbpk_three_comp(t,y,Qk,Qt,Kpk,Kpt,CL,Vv,Vk,Vt,Dose):\n",
    "    V,K,T = y\n",
    "    dVdt= (Dose/Vv) - (Qk/Vv)*V + (Qk/Vk)*Kpk*K - (Qt/Vv)*V + (Qt/Vt)*Kpt*T \n",
    "    dKdt= (Qk/Vk) * Kpk * V - (Qk/Vk)*K - (CL/Vk)*K\n",
    "    dTdt= (Qt/Vt) * Kpt * V - (Qt/Vt)*T\n",
    "    return [dVdt,dKdt,dTdt]"
   ],
   "metadata": {
    "collapsed": false,
    "ExecuteTime": {
     "end_time": "2024-02-22T03:14:42.235184Z",
     "start_time": "2024-02-22T03:14:42.223786Z"
    }
   },
   "id": "dbf0b54a53fad777"
  },
  {
   "cell_type": "code",
   "execution_count": 5,
   "outputs": [],
   "source": [
    "y0=[0,0,0]\n",
    "tspan = (0,100)\n",
    "Dose= 100\n",
    "Qk,Qt,Kpk,Kpt,CL,Vv,Vk,Vt=2, 1, 3, 0.5, 5, 10, 5, 8"
   ],
   "metadata": {
    "collapsed": false,
    "ExecuteTime": {
     "end_time": "2024-02-22T03:16:53.168928Z",
     "start_time": "2024-02-22T03:16:53.155801Z"
    }
   },
   "id": "e8991205ee28893a"
  },
  {
   "cell_type": "code",
   "execution_count": 6,
   "outputs": [],
   "source": [
    "sol = solve_ivp(pbpk_three_comp, tspan, y0, args=(Qk,Qt,Kpk,Kpt,CL,Vv,Vk,Vt,Dose), t_eval=np.linspace(0,100,100))"
   ],
   "metadata": {
    "collapsed": false,
    "ExecuteTime": {
     "end_time": "2024-02-22T03:17:05.616127Z",
     "start_time": "2024-02-22T03:17:05.603110Z"
    }
   },
   "id": "525d85227eb4bb7a"
  },
  {
   "cell_type": "code",
   "execution_count": 7,
   "outputs": [
    {
     "data": {
      "text/plain": "<Figure size 640x480 with 1 Axes>",
      "image/png": "[encoded data removed]"
     },
     "metadata": {},
     "output_type": "display_data"
    }
   ],
   "source": [
    "plt.plot(sol.t, sol.y[0], label='Vein')\n",
    "plt.plot(sol.t, sol.y[1], label='Kidney')\n",
    "plt.plot(sol.t, sol.y[2], label='Tumor')\n",
    "plt.xlabel('Time')\n",
    "plt.ylabel('Concentration')\n",
    "plt.legend()\n",
    "plt.show()"
   ],
   "metadata": {
    "collapsed": false,
    "ExecuteTime": {
     "end_time": "2024-02-22T03:17:41.876852Z",
     "start_time": "2024-02-22T03:17:41.749146Z"
    }
   },
   "id": "d111903f64d84779"
  },
  {
   "cell_type": "code",
   "execution_count": 10,
   "outputs": [],
   "source": [
    "#Adding some non linearity by adding Michaelis-Menten kinetics\n",
    "def michaelis_menten(C, Vmax, Km):\n",
    "    return Vmax * C / (Km + C)\n"
   ],
   "metadata": {
    "collapsed": false,
    "ExecuteTime": {
     "end_time": "2024-02-22T04:11:59.593651Z",
     "start_time": "2024-02-22T04:11:59.583962Z"
    }
   },
   "id": "80bbedb2f270465"
  },
  {
   "cell_type": "code",
   "execution_count": 11,
   "outputs": [],
   "source": [
    "def metabol_pbpk_three_comp(t, y, Qk, Qt, Kpk, Kpt, Vmax, Km, Vv, Vk, Vt, Dose):\n",
    "    V, K, T = y\n",
    "    metabolism_rate = michaelis_menten(K, Vmax, Km)\n",
    "    dVdt = (Dose/Vv) - (Qk/Vv)*V + (Qk/Vk)*Kpk*K - (Qt/Vv)*V + (Qt/Vt)*Kpt*T \n",
    "    dKdt = (Qk/Vk) * Kpk * V - (Qk/Vk)*K - metabolism_rate\n",
    "    dTdt = (Qt/Vt) * Kpt * V - (Qt/Vt)*T\n",
    "    return [dVdt, dKdt, dTdt]"
   ],
   "metadata": {
    "collapsed": false,
    "ExecuteTime": {
     "end_time": "2024-02-22T04:12:37.391560Z",
     "start_time": "2024-02-22T04:12:37.379192Z"
    }
   },
   "id": "ca2afc387508aa42"
  },
  {
   "cell_type": "code",
   "execution_count": 12,
   "outputs": [],
   "source": [
    "params = {\n",
    "    \"Qk\": 1.0, \"Qt\": 0.5,\n",
    "    \"Kpk\": 0.8, \"Kpt\": 0.5,\n",
    "    \"Vmax\": 0.1, \"Km\": 0.1,\n",
    "    \"Vv\": 1.0, \"Vk\": 0.5, \"Vt\": 0.3,\n",
    "    \"Dose\": 1.0\n",
    "}\n",
    "y0 = [0, 0, 0]\n",
    "\n",
    "t_span = [0, 24] \n",
    "t_eval = np.linspace(t_span[0], t_span[1], 100)\n",
    "\n",
    "\n",
    "sol = solve_ivp(lambda t, y: metabol_pbpk_three_comp(t, y, **params), t_span, y0, t_eval=t_eval)\n",
    "\n",
    "\n"
   ],
   "metadata": {
    "collapsed": false,
    "ExecuteTime": {
     "end_time": "2024-02-22T04:13:12.927458Z",
     "start_time": "2024-02-22T04:13:12.915909Z"
    }
   },
   "id": "c44f5118ef2c5674"
  },
  {
   "cell_type": "code",
   "execution_count": 24,
   "outputs": [],
   "source": [
    "def simulate_pbpk_model(y0, params, t_span, t_eval):\n",
    "    sol = solve_ivp(lambda t, y: metabol_pbpk_three_comp(t, y, **params), t_span, y0, t_eval=t_eval)\n",
    "    return sol.y\n",
    "initial_conditions_range = {\n",
    "    \"V\": (0, 1),\n",
    "    \"K\": (0, 1),\n",
    "    \"T\": (0, 1)\n",
    "}"
   ],
   "metadata": {
    "collapsed": false,
    "ExecuteTime": {
     "end_time": "2024-02-22T04:32:14.475277Z",
     "start_time": "2024-02-22T04:32:14.466457Z"
    }
   },
   "id": "80dfaf6c2445352c"
  },
  {
   "cell_type": "code",
   "execution_count": 42,
   "outputs": [],
   "source": [
    "data_samples = []\n",
    "for _ in range(10000):\n",
    "    y0 = [np.random.uniform(low, high) for low, high in initial_conditions_range.values()]\n",
    "    sol = solve_ivp(lambda t, y: metabol_pbpk_three_comp(t, y, **params), t_span, y0, t_eval=t_eval)\n",
    "    data_samples.append(sol.y)  \n",
    "data_samples = np.array(data_samples)"
   ],
   "metadata": {
    "collapsed": false,
    "ExecuteTime": {
     "end_time": "2024-02-22T04:50:52.773151Z",
     "start_time": "2024-02-22T04:50:38.821383Z"
    }
   },
   "id": "d37df70a9d67af6c"
  },
  {
   "cell_type": "code",
   "execution_count": 52,
   "outputs": [
    {
     "data": {
      "text/plain": "(10000, 3, 100)"
     },
     "execution_count": 52,
     "metadata": {},
     "output_type": "execute_result"
    }
   ],
   "source": [
    "data_samples.shape"
   ],
   "metadata": {
    "collapsed": false,
    "ExecuteTime": {
     "end_time": "2024-02-22T05:06:04.905887Z",
     "start_time": "2024-02-22T05:06:04.893709Z"
    }
   },
   "id": "a8d478d98523fa0a"
  },
  {
   "cell_type": "code",
   "execution_count": 43,
   "outputs": [],
   "source": [
    "data_samples_reshaped = data_samples.reshape(data_samples.shape[0], -1)  \n",
    "train,test=train_test_split(data_samples_reshaped, test_size=0.2,random_state=42)"
   ],
   "metadata": {
    "collapsed": false,
    "ExecuteTime": {
     "end_time": "2024-02-22T04:51:04.237731Z",
     "start_time": "2024-02-22T04:51:04.227174Z"
    }
   },
   "id": "dc41d294659400c1"
  },
  {
   "cell_type": "code",
   "execution_count": 44,
   "outputs": [],
   "source": [
    "train_tensor = torch.tensor(train, dtype=torch.float32)\n",
    "test_tensor = torch.tensor(test, dtype=torch.float32)"
   ],
   "metadata": {
    "collapsed": false,
    "ExecuteTime": {
     "end_time": "2024-02-22T04:51:11.606520Z",
     "start_time": "2024-02-22T04:51:11.598130Z"
    }
   },
   "id": "1a7ba2c9243f81e5"
  },
  {
   "cell_type": "code",
   "execution_count": 45,
   "outputs": [],
   "source": [
    "class NLPBPKModel(nn.Module):\n",
    "    def __init__(self):\n",
    "        super(NLPBPKModel, self).__init__()\n",
    "        self.net = nn.Sequential(\n",
    "            nn.Linear(3,128),\n",
    "            nn.ReLU(),\n",
    "            nn.Linear(128,128),\n",
    "            nn.ReLU(),\n",
    "            nn.Linear(128,128),\n",
    "            nn.ReLU(),\n",
    "            nn.Linear(128,3)\n",
    "                )\n",
    "    def forward(self, y):\n",
    "        return self.net(y)"
   ],
   "metadata": {
    "collapsed": false,
    "ExecuteTime": {
     "end_time": "2024-02-22T04:51:14.108716Z",
     "start_time": "2024-02-22T04:51:14.102337Z"
    }
   },
   "id": "9f6f165de2b217b6"
  },
  {
   "cell_type": "code",
   "execution_count": 51,
   "outputs": [],
   "source": [
    "class HybridODELSTMModel(nn.Module):\n",
    "    def __init__(self, ode_func, param_dims, hidden_size):\n",
    "        super().__init__()\n",
    "        self.ode_func = ode_func\n",
    "        self.ode_solver = odeint \n",
    "        self.param_dims = param_dims\n",
    "        self.lstm = nn.LSTM(input_size=3 + param_dims, hidden_size=hidden_size)  \n",
    "\n",
    "    def forward(self, t, x0, params):\n",
    "        ode_pred = self.ode_solver(self.ode_func, x0, t, method=\"dopri5\", options=dict(args=params))         \n",
    "        lstm_out, _ = self.lstm(ode_pred.unsqueeze(1))\n",
    "        return lstm_out[:, -1, :]       \n"
   ],
   "metadata": {
    "collapsed": false,
    "ExecuteTime": {
     "end_time": "2024-02-22T05:04:01.419414Z",
     "start_time": "2024-02-22T05:04:01.409234Z"
    }
   },
   "id": "d0515798ac588a47"
  },
  {
   "cell_type": "code",
   "execution_count": 46,
   "outputs": [],
   "source": [
    "pbpk_model= NLPBPKModel()\n",
    "optimizer = torch.optim.Adam(pbpk_model.parameters(), lr=1e-3)\n",
    "criterion= nn.MSELoss()"
   ],
   "metadata": {
    "collapsed": false,
    "ExecuteTime": {
     "end_time": "2024-02-22T04:51:23.021021Z",
     "start_time": "2024-02-22T04:51:23.013770Z"
    }
   },
   "id": "bd34594d3d6318eb"
  },
  {
   "cell_type": "code",
   "execution_count": 47,
   "outputs": [],
   "source": [
    "train_dataset = TensorDataset(train_tensor)\n",
    "test_dataset = TensorDataset(test_tensor)\n",
    "train_loader = DataLoader(train_dataset, batch_size=64, shuffle=True)\n",
    "test_loader = DataLoader(test_dataset, batch_size=64, shuffle=False)"
   ],
   "metadata": {
    "collapsed": false,
    "ExecuteTime": {
     "end_time": "2024-02-22T04:51:26.350556Z",
     "start_time": "2024-02-22T04:51:26.343153Z"
    }
   },
   "id": "3739b12a9927b9cd"
  },
  {
   "cell_type": "code",
   "execution_count": null,
   "outputs": [],
   "source": [],
   "metadata": {
    "collapsed": false
   },
   "id": "fe17d2e7e118ebdb"
  },
  {
   "cell_type": "code",
   "execution_count": 49,
   "outputs": [],
   "source": [
    "def train_and_validate(model, train_loader, test_loader, optimizer, criterion, epochs):\n",
    "    model.train() \n",
    "    train_losses = []\n",
    "    val_losses = []\n",
    "    for epoch in range(epochs):\n",
    "        total_train_loss = 0\n",
    "        for batch in train_loader:\n",
    "            y_batch = batch[0]\n",
    "            optimizer.zero_grad()\n",
    "            y_pred = model(y_batch)\n",
    "            loss = criterion(y_pred, y_batch)            \n",
    "            loss.backward()\n",
    "            optimizer.step()           \n",
    "            total_train_loss += loss.item()\n",
    "        avg_train_loss = total_train_loss / len(train_loader)\n",
    "        train_losses.append(avg_train_loss)\n",
    "        model.eval()\n",
    "        total_val_loss = 0\n",
    "        with torch.no_grad():\n",
    "            for batch in test_loader:\n",
    "                y_batch = batch[0]\n",
    "                y_pred = model(y_batch)\n",
    "                loss = criterion(y_pred, y_batch)           \n",
    "                total_val_loss += loss.item()\n",
    "        avg_val_loss = total_val_loss / len(test_loader)\n",
    "        val_losses.append(avg_val_loss)      \n",
    "        model.train() \n",
    "        print(f'Epoch {epoch+1}, Train Loss: {avg_train_loss}, Val Loss: {avg_val_loss}') \n",
    "    return train_losses, val_losses\n"
   ],
   "metadata": {
    "collapsed": false,
    "ExecuteTime": {
     "end_time": "2024-02-22T04:51:45.160553Z",
     "start_time": "2024-02-22T04:51:45.156183Z"
    }
   },
   "id": "e09fbb14b2e6cbdb"
  },
  {
   "cell_type": "code",
   "execution_count": 50,
   "outputs": [
    {
     "ename": "RuntimeError",
     "evalue": "mat1 and mat2 shapes cannot be multiplied (64x300 and 3x128)",
     "output_type": "error",
     "traceback": [
      "\u001B[0;31m---------------------------------------------------------------------------\u001B[0m",
      "\u001B[0;31mRuntimeError\u001B[0m                              Traceback (most recent call last)",
      "Cell \u001B[0;32mIn[50], line 1\u001B[0m\n\u001B[0;32m----> 1\u001B[0m train_losses, val_losses \u001B[38;5;241m=\u001B[39m \u001B[43mtrain_and_validate\u001B[49m\u001B[43m(\u001B[49m\u001B[43mpbpk_model\u001B[49m\u001B[43m,\u001B[49m\u001B[43m \u001B[49m\u001B[43mtrain_loader\u001B[49m\u001B[43m,\u001B[49m\u001B[43m \u001B[49m\u001B[43mtest_loader\u001B[49m\u001B[43m,\u001B[49m\u001B[43m \u001B[49m\u001B[43moptimizer\u001B[49m\u001B[43m,\u001B[49m\u001B[43m \u001B[49m\u001B[43mcriterion\u001B[49m\u001B[43m,\u001B[49m\u001B[43m \u001B[49m\u001B[38;5;241;43m100\u001B[39;49m\u001B[43m)\u001B[49m\n\u001B[1;32m      3\u001B[0m plt\u001B[38;5;241m.\u001B[39mfigure(figsize\u001B[38;5;241m=\u001B[39m(\u001B[38;5;241m10\u001B[39m, \u001B[38;5;241m6\u001B[39m))\n\u001B[1;32m      4\u001B[0m plt\u001B[38;5;241m.\u001B[39mplot(train_losses, label\u001B[38;5;241m=\u001B[39m\u001B[38;5;124m'\u001B[39m\u001B[38;5;124mTraining Loss\u001B[39m\u001B[38;5;124m'\u001B[39m)\n",
      "Cell \u001B[0;32mIn[49], line 10\u001B[0m, in \u001B[0;36mtrain_and_validate\u001B[0;34m(model, train_loader, test_loader, optimizer, criterion, epochs)\u001B[0m\n\u001B[1;32m      8\u001B[0m y_batch \u001B[38;5;241m=\u001B[39m batch[\u001B[38;5;241m0\u001B[39m]\n\u001B[1;32m      9\u001B[0m optimizer\u001B[38;5;241m.\u001B[39mzero_grad()\n\u001B[0;32m---> 10\u001B[0m y_pred \u001B[38;5;241m=\u001B[39m \u001B[43mmodel\u001B[49m\u001B[43m(\u001B[49m\u001B[43my_batch\u001B[49m\u001B[43m)\u001B[49m\n\u001B[1;32m     11\u001B[0m loss \u001B[38;5;241m=\u001B[39m criterion(y_pred, y_batch)            \n\u001B[1;32m     12\u001B[0m loss\u001B[38;5;241m.\u001B[39mbackward()\n",
      "File \u001B[0;32m~/anaconda3/envs/py10_env/lib/python3.10/site-packages/torch/nn/modules/module.py:1511\u001B[0m, in \u001B[0;36mModule._wrapped_call_impl\u001B[0;34m(self, *args, **kwargs)\u001B[0m\n\u001B[1;32m   1509\u001B[0m     \u001B[38;5;28;01mreturn\u001B[39;00m \u001B[38;5;28mself\u001B[39m\u001B[38;5;241m.\u001B[39m_compiled_call_impl(\u001B[38;5;241m*\u001B[39margs, \u001B[38;5;241m*\u001B[39m\u001B[38;5;241m*\u001B[39mkwargs)  \u001B[38;5;66;03m# type: ignore[misc]\u001B[39;00m\n\u001B[1;32m   1510\u001B[0m \u001B[38;5;28;01melse\u001B[39;00m:\n\u001B[0;32m-> 1511\u001B[0m     \u001B[38;5;28;01mreturn\u001B[39;00m \u001B[38;5;28;43mself\u001B[39;49m\u001B[38;5;241;43m.\u001B[39;49m\u001B[43m_call_impl\u001B[49m\u001B[43m(\u001B[49m\u001B[38;5;241;43m*\u001B[39;49m\u001B[43margs\u001B[49m\u001B[43m,\u001B[49m\u001B[43m \u001B[49m\u001B[38;5;241;43m*\u001B[39;49m\u001B[38;5;241;43m*\u001B[39;49m\u001B[43mkwargs\u001B[49m\u001B[43m)\u001B[49m\n",
      "File \u001B[0;32m~/anaconda3/envs/py10_env/lib/python3.10/site-packages/torch/nn/modules/module.py:1520\u001B[0m, in \u001B[0;36mModule._call_impl\u001B[0;34m(self, *args, **kwargs)\u001B[0m\n\u001B[1;32m   1515\u001B[0m \u001B[38;5;66;03m# If we don't have any hooks, we want to skip the rest of the logic in\u001B[39;00m\n\u001B[1;32m   1516\u001B[0m \u001B[38;5;66;03m# this function, and just call forward.\u001B[39;00m\n\u001B[1;32m   1517\u001B[0m \u001B[38;5;28;01mif\u001B[39;00m \u001B[38;5;129;01mnot\u001B[39;00m (\u001B[38;5;28mself\u001B[39m\u001B[38;5;241m.\u001B[39m_backward_hooks \u001B[38;5;129;01mor\u001B[39;00m \u001B[38;5;28mself\u001B[39m\u001B[38;5;241m.\u001B[39m_backward_pre_hooks \u001B[38;5;129;01mor\u001B[39;00m \u001B[38;5;28mself\u001B[39m\u001B[38;5;241m.\u001B[39m_forward_hooks \u001B[38;5;129;01mor\u001B[39;00m \u001B[38;5;28mself\u001B[39m\u001B[38;5;241m.\u001B[39m_forward_pre_hooks\n\u001B[1;32m   1518\u001B[0m         \u001B[38;5;129;01mor\u001B[39;00m _global_backward_pre_hooks \u001B[38;5;129;01mor\u001B[39;00m _global_backward_hooks\n\u001B[1;32m   1519\u001B[0m         \u001B[38;5;129;01mor\u001B[39;00m _global_forward_hooks \u001B[38;5;129;01mor\u001B[39;00m _global_forward_pre_hooks):\n\u001B[0;32m-> 1520\u001B[0m     \u001B[38;5;28;01mreturn\u001B[39;00m \u001B[43mforward_call\u001B[49m\u001B[43m(\u001B[49m\u001B[38;5;241;43m*\u001B[39;49m\u001B[43margs\u001B[49m\u001B[43m,\u001B[49m\u001B[43m \u001B[49m\u001B[38;5;241;43m*\u001B[39;49m\u001B[38;5;241;43m*\u001B[39;49m\u001B[43mkwargs\u001B[49m\u001B[43m)\u001B[49m\n\u001B[1;32m   1522\u001B[0m \u001B[38;5;28;01mtry\u001B[39;00m:\n\u001B[1;32m   1523\u001B[0m     result \u001B[38;5;241m=\u001B[39m \u001B[38;5;28;01mNone\u001B[39;00m\n",
      "Cell \u001B[0;32mIn[45], line 14\u001B[0m, in \u001B[0;36mNLPBPKModel.forward\u001B[0;34m(self, y)\u001B[0m\n\u001B[1;32m     13\u001B[0m \u001B[38;5;28;01mdef\u001B[39;00m \u001B[38;5;21mforward\u001B[39m(\u001B[38;5;28mself\u001B[39m, y):\n\u001B[0;32m---> 14\u001B[0m     \u001B[38;5;28;01mreturn\u001B[39;00m \u001B[38;5;28;43mself\u001B[39;49m\u001B[38;5;241;43m.\u001B[39;49m\u001B[43mnet\u001B[49m\u001B[43m(\u001B[49m\u001B[43my\u001B[49m\u001B[43m)\u001B[49m\n",
      "File \u001B[0;32m~/anaconda3/envs/py10_env/lib/python3.10/site-packages/torch/nn/modules/module.py:1511\u001B[0m, in \u001B[0;36mModule._wrapped_call_impl\u001B[0;34m(self, *args, **kwargs)\u001B[0m\n\u001B[1;32m   1509\u001B[0m     \u001B[38;5;28;01mreturn\u001B[39;00m \u001B[38;5;28mself\u001B[39m\u001B[38;5;241m.\u001B[39m_compiled_call_impl(\u001B[38;5;241m*\u001B[39margs, \u001B[38;5;241m*\u001B[39m\u001B[38;5;241m*\u001B[39mkwargs)  \u001B[38;5;66;03m# type: ignore[misc]\u001B[39;00m\n\u001B[1;32m   1510\u001B[0m \u001B[38;5;28;01melse\u001B[39;00m:\n\u001B[0;32m-> 1511\u001B[0m     \u001B[38;5;28;01mreturn\u001B[39;00m \u001B[38;5;28;43mself\u001B[39;49m\u001B[38;5;241;43m.\u001B[39;49m\u001B[43m_call_impl\u001B[49m\u001B[43m(\u001B[49m\u001B[38;5;241;43m*\u001B[39;49m\u001B[43margs\u001B[49m\u001B[43m,\u001B[49m\u001B[43m \u001B[49m\u001B[38;5;241;43m*\u001B[39;49m\u001B[38;5;241;43m*\u001B[39;49m\u001B[43mkwargs\u001B[49m\u001B[43m)\u001B[49m\n",
      "File \u001B[0;32m~/anaconda3/envs/py10_env/lib/python3.10/site-packages/torch/nn/modules/module.py:1520\u001B[0m, in \u001B[0;36mModule._call_impl\u001B[0;34m(self, *args, **kwargs)\u001B[0m\n\u001B[1;32m   1515\u001B[0m \u001B[38;5;66;03m# If we don't have any hooks, we want to skip the rest of the logic in\u001B[39;00m\n\u001B[1;32m   1516\u001B[0m \u001B[38;5;66;03m# this function, and just call forward.\u001B[39;00m\n\u001B[1;32m   1517\u001B[0m \u001B[38;5;28;01mif\u001B[39;00m \u001B[38;5;129;01mnot\u001B[39;00m (\u001B[38;5;28mself\u001B[39m\u001B[38;5;241m.\u001B[39m_backward_hooks \u001B[38;5;129;01mor\u001B[39;00m \u001B[38;5;28mself\u001B[39m\u001B[38;5;241m.\u001B[39m_backward_pre_hooks \u001B[38;5;129;01mor\u001B[39;00m \u001B[38;5;28mself\u001B[39m\u001B[38;5;241m.\u001B[39m_forward_hooks \u001B[38;5;129;01mor\u001B[39;00m \u001B[38;5;28mself\u001B[39m\u001B[38;5;241m.\u001B[39m_forward_pre_hooks\n\u001B[1;32m   1518\u001B[0m         \u001B[38;5;129;01mor\u001B[39;00m _global_backward_pre_hooks \u001B[38;5;129;01mor\u001B[39;00m _global_backward_hooks\n\u001B[1;32m   1519\u001B[0m         \u001B[38;5;129;01mor\u001B[39;00m _global_forward_hooks \u001B[38;5;129;01mor\u001B[39;00m _global_forward_pre_hooks):\n\u001B[0;32m-> 1520\u001B[0m     \u001B[38;5;28;01mreturn\u001B[39;00m \u001B[43mforward_call\u001B[49m\u001B[43m(\u001B[49m\u001B[38;5;241;43m*\u001B[39;49m\u001B[43margs\u001B[49m\u001B[43m,\u001B[49m\u001B[43m \u001B[49m\u001B[38;5;241;43m*\u001B[39;49m\u001B[38;5;241;43m*\u001B[39;49m\u001B[43mkwargs\u001B[49m\u001B[43m)\u001B[49m\n\u001B[1;32m   1522\u001B[0m \u001B[38;5;28;01mtry\u001B[39;00m:\n\u001B[1;32m   1523\u001B[0m     result \u001B[38;5;241m=\u001B[39m \u001B[38;5;28;01mNone\u001B[39;00m\n",
      "File \u001B[0;32m~/anaconda3/envs/py10_env/lib/python3.10/site-packages/torch/nn/modules/container.py:217\u001B[0m, in \u001B[0;36mSequential.forward\u001B[0;34m(self, input)\u001B[0m\n\u001B[1;32m    215\u001B[0m \u001B[38;5;28;01mdef\u001B[39;00m \u001B[38;5;21mforward\u001B[39m(\u001B[38;5;28mself\u001B[39m, \u001B[38;5;28minput\u001B[39m):\n\u001B[1;32m    216\u001B[0m     \u001B[38;5;28;01mfor\u001B[39;00m module \u001B[38;5;129;01min\u001B[39;00m \u001B[38;5;28mself\u001B[39m:\n\u001B[0;32m--> 217\u001B[0m         \u001B[38;5;28minput\u001B[39m \u001B[38;5;241m=\u001B[39m \u001B[43mmodule\u001B[49m\u001B[43m(\u001B[49m\u001B[38;5;28;43minput\u001B[39;49m\u001B[43m)\u001B[49m\n\u001B[1;32m    218\u001B[0m     \u001B[38;5;28;01mreturn\u001B[39;00m \u001B[38;5;28minput\u001B[39m\n",
      "File \u001B[0;32m~/anaconda3/envs/py10_env/lib/python3.10/site-packages/torch/nn/modules/module.py:1511\u001B[0m, in \u001B[0;36mModule._wrapped_call_impl\u001B[0;34m(self, *args, **kwargs)\u001B[0m\n\u001B[1;32m   1509\u001B[0m     \u001B[38;5;28;01mreturn\u001B[39;00m \u001B[38;5;28mself\u001B[39m\u001B[38;5;241m.\u001B[39m_compiled_call_impl(\u001B[38;5;241m*\u001B[39margs, \u001B[38;5;241m*\u001B[39m\u001B[38;5;241m*\u001B[39mkwargs)  \u001B[38;5;66;03m# type: ignore[misc]\u001B[39;00m\n\u001B[1;32m   1510\u001B[0m \u001B[38;5;28;01melse\u001B[39;00m:\n\u001B[0;32m-> 1511\u001B[0m     \u001B[38;5;28;01mreturn\u001B[39;00m \u001B[38;5;28;43mself\u001B[39;49m\u001B[38;5;241;43m.\u001B[39;49m\u001B[43m_call_impl\u001B[49m\u001B[43m(\u001B[49m\u001B[38;5;241;43m*\u001B[39;49m\u001B[43margs\u001B[49m\u001B[43m,\u001B[49m\u001B[43m \u001B[49m\u001B[38;5;241;43m*\u001B[39;49m\u001B[38;5;241;43m*\u001B[39;49m\u001B[43mkwargs\u001B[49m\u001B[43m)\u001B[49m\n",
      "File \u001B[0;32m~/anaconda3/envs/py10_env/lib/python3.10/site-packages/torch/nn/modules/module.py:1520\u001B[0m, in \u001B[0;36mModule._call_impl\u001B[0;34m(self, *args, **kwargs)\u001B[0m\n\u001B[1;32m   1515\u001B[0m \u001B[38;5;66;03m# If we don't have any hooks, we want to skip the rest of the logic in\u001B[39;00m\n\u001B[1;32m   1516\u001B[0m \u001B[38;5;66;03m# this function, and just call forward.\u001B[39;00m\n\u001B[1;32m   1517\u001B[0m \u001B[38;5;28;01mif\u001B[39;00m \u001B[38;5;129;01mnot\u001B[39;00m (\u001B[38;5;28mself\u001B[39m\u001B[38;5;241m.\u001B[39m_backward_hooks \u001B[38;5;129;01mor\u001B[39;00m \u001B[38;5;28mself\u001B[39m\u001B[38;5;241m.\u001B[39m_backward_pre_hooks \u001B[38;5;129;01mor\u001B[39;00m \u001B[38;5;28mself\u001B[39m\u001B[38;5;241m.\u001B[39m_forward_hooks \u001B[38;5;129;01mor\u001B[39;00m \u001B[38;5;28mself\u001B[39m\u001B[38;5;241m.\u001B[39m_forward_pre_hooks\n\u001B[1;32m   1518\u001B[0m         \u001B[38;5;129;01mor\u001B[39;00m _global_backward_pre_hooks \u001B[38;5;129;01mor\u001B[39;00m _global_backward_hooks\n\u001B[1;32m   1519\u001B[0m         \u001B[38;5;129;01mor\u001B[39;00m _global_forward_hooks \u001B[38;5;129;01mor\u001B[39;00m _global_forward_pre_hooks):\n\u001B[0;32m-> 1520\u001B[0m     \u001B[38;5;28;01mreturn\u001B[39;00m \u001B[43mforward_call\u001B[49m\u001B[43m(\u001B[49m\u001B[38;5;241;43m*\u001B[39;49m\u001B[43margs\u001B[49m\u001B[43m,\u001B[49m\u001B[43m \u001B[49m\u001B[38;5;241;43m*\u001B[39;49m\u001B[38;5;241;43m*\u001B[39;49m\u001B[43mkwargs\u001B[49m\u001B[43m)\u001B[49m\n\u001B[1;32m   1522\u001B[0m \u001B[38;5;28;01mtry\u001B[39;00m:\n\u001B[1;32m   1523\u001B[0m     result \u001B[38;5;241m=\u001B[39m \u001B[38;5;28;01mNone\u001B[39;00m\n",
      "File \u001B[0;32m~/anaconda3/envs/py10_env/lib/python3.10/site-packages/torch/nn/modules/linear.py:116\u001B[0m, in \u001B[0;36mLinear.forward\u001B[0;34m(self, input)\u001B[0m\n\u001B[1;32m    115\u001B[0m \u001B[38;5;28;01mdef\u001B[39;00m \u001B[38;5;21mforward\u001B[39m(\u001B[38;5;28mself\u001B[39m, \u001B[38;5;28minput\u001B[39m: Tensor) \u001B[38;5;241m-\u001B[39m\u001B[38;5;241m>\u001B[39m Tensor:\n\u001B[0;32m--> 116\u001B[0m     \u001B[38;5;28;01mreturn\u001B[39;00m \u001B[43mF\u001B[49m\u001B[38;5;241;43m.\u001B[39;49m\u001B[43mlinear\u001B[49m\u001B[43m(\u001B[49m\u001B[38;5;28;43minput\u001B[39;49m\u001B[43m,\u001B[49m\u001B[43m \u001B[49m\u001B[38;5;28;43mself\u001B[39;49m\u001B[38;5;241;43m.\u001B[39;49m\u001B[43mweight\u001B[49m\u001B[43m,\u001B[49m\u001B[43m \u001B[49m\u001B[38;5;28;43mself\u001B[39;49m\u001B[38;5;241;43m.\u001B[39;49m\u001B[43mbias\u001B[49m\u001B[43m)\u001B[49m\n",
      "\u001B[0;31mRuntimeError\u001B[0m: mat1 and mat2 shapes cannot be multiplied (64x300 and 3x128)"
     ]
    }
   ],
   "source": [
    "\n",
    "train_losses, val_losses = train_and_validate(pbpk_model, train_loader, test_loader, optimizer, criterion, 100)\n",
    "\n",
    "plt.figure(figsize=(10, 6))\n",
    "plt.plot(train_losses, label='Training Loss')\n",
    "plt.plot(val_losses, label='Validation Loss')\n",
    "plt.xlabel('Epoch')\n",
    "plt.ylabel('Loss')\n",
    "plt.title('Training and Validation Loss Over Epochs')\n",
    "plt.legend()\n",
    "plt.show()"
   ],
   "metadata": {
    "collapsed": false,
    "ExecuteTime": {
     "end_time": "2024-02-22T04:51:46.728177Z",
     "start_time": "2024-02-22T04:51:46.655109Z"
    }
   },
   "id": "f58bc91e1a13ee10"
  },
  {
   "cell_type": "code",
   "execution_count": 65,
   "outputs": [],
   "source": [
    "# Three-Compartment ODE Model \n",
    "def three_comp_ode(t, y, Qk=Qk, Qt=Qt, Kpk=Kpk, Kpt=Kpt, Vv=Vv, Vk=Vk, Vt=Vt):\n",
    "    V, K, T = y\n",
    "    dVdt = - (Qk/Vv)*V + (Qk/Vk)*Kpk*K - (Qt/Vv)*V + (Qt/Vt)*Kpt*T\n",
    "    dKdt = (Qk/Vk) * Kpk * V - (Qk/Vk)*K\n",
    "    dTdt = (Qt/Vt) * Kpt * V - (Qt/Vt)*T\n",
    "    return [dVdt, dKdt, dTdt]\n",
    "\n",
    "# Data Generation\n",
    "def generate_data(num_samples, t_span, t_eval, Qk, Qt, Kpk, Kpt, Vv, Vk, Vt, noise_std=0.1):\n",
    "    data = []\n",
    "    for _ in range(num_samples):\n",
    "        x0 = np.random.rand(3)\n",
    "        sol = solve_ivp(three_comp_ode, t_span, x0, t_eval=t_eval, args=(Qk, Qt, Kpk, Kpt, Vv, Vk, Vt))\n",
    "        data.append(sol.y.T + np.random.randn(*sol.y.T.shape) * noise_std)\n",
    "    return np.array(data)\n",
    "\n",
    "# Parameter Values\n",
    "Qk, Qt, Kpk, Kpt = 1.0, 0.5, 0.8, 0.3 \n",
    "Vv, Vk, Vt = 2.0, 1.0, 0.5\n",
    "t_span = [0, 24]\n",
    "t_eval = np.linspace(t_span[0], t_span[1], 100)\n",
    "\n",
    "# Generate Data\n",
    "data = generate_data(1000, t_span, t_eval, Qk, Qt, Kpk, Kpt, Vv, Vk, Vt)\n",
    "train_data, test_data = data[:800], data[800:] "
   ],
   "metadata": {
    "collapsed": false,
    "ExecuteTime": {
     "end_time": "2024-02-22T05:29:25.872445Z",
     "start_time": "2024-02-22T05:29:25.055922Z"
    }
   },
   "id": "781e7941c20d7a26"
  },
  {
   "cell_type": "code",
   "execution_count": 69,
   "outputs": [
    {
     "data": {
      "text/plain": "(800, 100, 3)"
     },
     "execution_count": 69,
     "metadata": {},
     "output_type": "execute_result"
    }
   ],
   "source": [
    "train_data.shape\n",
    "#(800, 100, 3)"
   ],
   "metadata": {
    "collapsed": false,
    "ExecuteTime": {
     "end_time": "2024-02-22T05:31:14.337238Z",
     "start_time": "2024-02-22T05:31:14.325033Z"
    }
   },
   "id": "bff430c81d346318"
  },
  {
   "cell_type": "code",
   "execution_count": 97,
   "outputs": [],
   "source": [
    "class ODEFunc(nn.Module):\n",
    "    def __init__(self, hidden_size):\n",
    "        super(ODEFunc, self).__init__()\n",
    "        self.net = nn.Sequential(\n",
    "            nn.Linear(hidden_size, hidden_size),\n",
    "            nn.Tanh(),\n",
    "            nn.Linear(hidden_size, hidden_size),\n",
    "        )\n",
    "    \n",
    "    def forward(self, t, y):\n",
    "        return self.net(y)\n",
    "\n",
    "class HybridODELSTMModel(nn.Module):\n",
    "    def __init__(self, input_size, hidden_size, output_size, seq_len, Qk, Qt, Kpk, Kpt, Vv, Vk, Vt):\n",
    "        super(HybridODELSTMModel, self).__init__()\n",
    "        self.seq_len = seq_len\n",
    "        self.lstm = nn.LSTM(input_size=input_size, hidden_size=hidden_size, batch_first=True)\n",
    "        self.ode_func = ODEFunc(hidden_size)\n",
    "        self.fc = nn.Linear(hidden_size, output_size)\n",
    "        self.Qk = nn.Parameter(torch.tensor(Qk, dtype=torch.float32))\n",
    "        self.Qt = nn.Parameter(torch.tensor(Qt, dtype=torch.float32))\n",
    "        self.Kpk = nn.Parameter(torch.tensor(Kpk, dtype=torch.float32))\n",
    "        self.Kpt = nn.Parameter(torch.tensor(Kpt, dtype=torch.float32))\n",
    "        self.Vv = nn.Parameter(torch.tensor(Vv, dtype=torch.float32))\n",
    "        self.Vk = nn.Parameter(torch.tensor(Vk, dtype=torch.float32))\n",
    "        self.Vt = nn.Parameter(torch.tensor(Vt, dtype=torch.float32))\n",
    "    \n",
    "    def forward(self, x, t):\n",
    "        lstm_out, (h_n, c_n) = self.lstm(x)\n",
    "        h_n = h_n[-1]\n",
    "        t = torch.linspace(0., self.seq_len, steps=self.seq_len, device=x.device)\n",
    "        ode_sol = odeint(self.ode_func, h_n, t, method=\"dopri5\")\n",
    "        out = self.fc(ode_sol[-1])\n",
    "        return out\n"
   ],
   "metadata": {
    "collapsed": false,
    "ExecuteTime": {
     "end_time": "2024-02-22T05:51:44.007620Z",
     "start_time": "2024-02-22T05:51:44.000160Z"
    }
   },
   "id": "de173553bab1a70a"
  },
  {
   "cell_type": "code",
   "execution_count": 98,
   "outputs": [],
   "source": [
    "from torch.utils.data import TensorDataset, DataLoader\n",
    "\n",
    "batch_size = 32  \n",
    "train_dataset = TensorDataset(torch.tensor(train_data[:, :-1]), torch.tensor(train_data[:, 1:]))  \n",
    "train_loader = DataLoader(train_dataset, batch_size=batch_size, shuffle=True)\n",
    "# Similarly create test_dataset and test_loader\n",
    "test_dataset = TensorDataset(torch.tensor(test_data[:, :-1]), torch.tensor(test_data[:, 1:]))\n",
    "test_loader = DataLoader(test_dataset, batch_size=batch_size, shuffle=False)"
   ],
   "metadata": {
    "collapsed": false,
    "ExecuteTime": {
     "end_time": "2024-02-22T05:51:45.942818Z",
     "start_time": "2024-02-22T05:51:45.934724Z"
    }
   },
   "id": "37418297ad304ece"
  },
  {
   "cell_type": "code",
   "execution_count": 99,
   "outputs": [],
   "source": [
    "input_size = 3  # Since each timestep contains concentrations from 3 compartments\n",
    "hidden_size = 128  # Example hidden size for LSTM\n",
    "output_size = 3  # Predicting concentrations for 3 compartments at the next timestep\n",
    "seq_len = 100  # Length of each input sequence\n",
    "model = HybridODELSTMModel(input_size=3, hidden_size=128, output_size=3, seq_len=100, Qk=1.0, Qt=0.5, Kpk=0.8, Kpt=0.3, Vv=2.0, Vk=1.0, Vt=0.5)\n"
   ],
   "metadata": {
    "collapsed": false,
    "ExecuteTime": {
     "end_time": "2024-02-22T05:51:46.567060Z",
     "start_time": "2024-02-22T05:51:46.561316Z"
    }
   },
   "id": "62c91a3fbe0177ae"
  },
  {
   "cell_type": "code",
   "execution_count": 104,
   "outputs": [
    {
     "name": "stdout",
     "output_type": "stream",
     "text": [
      "Epoch 1: Train Loss = 174.9932, Val Loss = 3.2629\n",
      "Validation loss decreased (inf --> 3.262929).  Saving model ...\n",
      "Epoch 2: Train Loss = 4.1251, Val Loss = 0.3167\n",
      "Validation loss decreased (3.262929 --> 0.316665).  Saving model ...\n",
      "Epoch 3: Train Loss = 0.3486, Val Loss = 0.0734\n",
      "Validation loss decreased (0.316665 --> 0.073402).  Saving model ...\n",
      "Epoch 4: Train Loss = 0.0587, Val Loss = 0.0333\n",
      "Validation loss decreased (0.073402 --> 0.033308).  Saving model ...\n",
      "Epoch 5: Train Loss = 0.0316, Val Loss = 0.0368\n",
      "EarlyStopping counter: 1 out of 20\n",
      "Epoch 6: Train Loss = 0.0319, Val Loss = 0.0400\n",
      "EarlyStopping counter: 2 out of 20\n",
      "Epoch 7: Train Loss = 0.0287, Val Loss = 0.0326\n",
      "Validation loss decreased (0.033308 --> 0.032617).  Saving model ...\n",
      "Epoch 8: Train Loss = 0.0310, Val Loss = 0.0333\n",
      "EarlyStopping counter: 1 out of 20\n",
      "Epoch 9: Train Loss = 0.0310, Val Loss = 0.0365\n",
      "EarlyStopping counter: 2 out of 20\n",
      "Epoch 10: Train Loss = 0.0296, Val Loss = 0.0401\n",
      "EarlyStopping counter: 3 out of 20\n",
      "Epoch 11: Train Loss = 0.0292, Val Loss = 0.0349\n",
      "EarlyStopping counter: 4 out of 20\n",
      "Epoch 12: Train Loss = 0.0343, Val Loss = 0.0649\n",
      "EarlyStopping counter: 5 out of 20\n",
      "Epoch 13: Train Loss = 0.0347, Val Loss = 0.0424\n",
      "EarlyStopping counter: 6 out of 20\n",
      "Epoch 14: Train Loss = 0.0359, Val Loss = 0.0409\n",
      "EarlyStopping counter: 7 out of 20\n",
      "Epoch 15: Train Loss = 0.0370, Val Loss = 0.0296\n",
      "Validation loss decreased (0.032617 --> 0.029621).  Saving model ...\n",
      "Epoch 16: Train Loss = 0.0353, Val Loss = 0.0398\n",
      "EarlyStopping counter: 1 out of 20\n",
      "Epoch 17: Train Loss = 0.0355, Val Loss = 0.0417\n",
      "EarlyStopping counter: 2 out of 20\n",
      "Epoch 18: Train Loss = 0.0394, Val Loss = 0.0410\n",
      "EarlyStopping counter: 3 out of 20\n",
      "Epoch 19: Train Loss = 0.0373, Val Loss = 0.0490\n",
      "EarlyStopping counter: 4 out of 20\n",
      "Epoch 20: Train Loss = 0.0444, Val Loss = 0.0480\n",
      "EarlyStopping counter: 5 out of 20\n",
      "Epoch 21: Train Loss = 0.0304, Val Loss = 0.0362\n",
      "EarlyStopping counter: 6 out of 20\n",
      "Epoch 22: Train Loss = 0.0435, Val Loss = 0.0789\n",
      "EarlyStopping counter: 7 out of 20\n",
      "Epoch 23: Train Loss = 0.0576, Val Loss = 0.1053\n",
      "EarlyStopping counter: 8 out of 20\n",
      "Epoch 24: Train Loss = 0.0548, Val Loss = 0.0587\n",
      "EarlyStopping counter: 9 out of 20\n",
      "Epoch 25: Train Loss = 0.0703, Val Loss = 0.0527\n",
      "EarlyStopping counter: 10 out of 20\n",
      "Epoch 26: Train Loss = 0.0516, Val Loss = 0.0300\n",
      "EarlyStopping counter: 11 out of 20\n",
      "Epoch 27: Train Loss = 0.0612, Val Loss = 0.0446\n",
      "EarlyStopping counter: 12 out of 20\n",
      "Epoch 28: Train Loss = 0.0547, Val Loss = 0.0474\n",
      "EarlyStopping counter: 13 out of 20\n",
      "Epoch 29: Train Loss = 0.0681, Val Loss = 0.0326\n",
      "EarlyStopping counter: 14 out of 20\n",
      "Epoch 30: Train Loss = 0.0395, Val Loss = 0.0795\n",
      "EarlyStopping counter: 15 out of 20\n",
      "Epoch 31: Train Loss = 0.0583, Val Loss = 0.0654\n",
      "EarlyStopping counter: 16 out of 20\n",
      "Epoch 32: Train Loss = 0.0882, Val Loss = 0.1082\n",
      "EarlyStopping counter: 17 out of 20\n",
      "Epoch 33: Train Loss = 0.0775, Val Loss = 0.0616\n",
      "EarlyStopping counter: 18 out of 20\n",
      "Epoch 34: Train Loss = 0.1214, Val Loss = 0.0859\n",
      "EarlyStopping counter: 19 out of 20\n",
      "Epoch 35: Train Loss = 0.0929, Val Loss = 0.1856\n",
      "EarlyStopping counter: 20 out of 20\n",
      "Early stopping\n"
     ]
    },
    {
     "data": {
      "text/plain": "<Figure size 1000x600 with 1 Axes>",
      "image/png": "[encoded data removed]"
     },
     "metadata": {},
     "output_type": "display_data"
    }
   ],
   "source": [
    "class EarlyStopping:\n",
    "    def __init__(self, patience=10, verbose=False, delta=0):\n",
    "        self.patience = patience\n",
    "        self.verbose = verbose\n",
    "        self.delta = delta\n",
    "        self.best_score = None\n",
    "        self.early_stop = False\n",
    "        self.counter = 0\n",
    "        self.best_loss = np.Inf\n",
    "\n",
    "    def __call__(self, val_loss):\n",
    "        score = -val_loss\n",
    "\n",
    "        if self.best_score is None:\n",
    "            self.best_score = score\n",
    "            self.save_checkpoint(val_loss)\n",
    "        elif score < self.best_score + self.delta:\n",
    "            self.counter += 1\n",
    "            print(f'EarlyStopping counter: {self.counter} out of {self.patience}')\n",
    "            if self.counter >= self.patience:\n",
    "                self.early_stop = True\n",
    "        else:\n",
    "            self.best_score = score\n",
    "            self.save_checkpoint(val_loss)\n",
    "            self.counter = 0\n",
    "\n",
    "    def save_checkpoint(self, val_loss):\n",
    "        if self.verbose:\n",
    "            print(f'Validation loss decreased ({self.best_loss:.6f} --> {val_loss:.6f}).  Saving model ...')\n",
    "        self.best_loss = val_loss\n",
    "\n",
    "optimizer = torch.optim.Adam(model.parameters())\n",
    "criterion = nn.MSELoss()\n",
    "early_stopping = EarlyStopping(patience=20, verbose=True)\n",
    "\n",
    "train_losses = []\n",
    "val_losses = []\n",
    "\n",
    "for epoch in range(100):\n",
    "    model.train()\n",
    "    epoch_losses = []\n",
    "\n",
    "    for x, y in train_loader:\n",
    "        x, y = x.float(), y.float()\n",
    "        t_eval_tensor = torch.linspace(0., model.seq_len, steps=model.seq_len, device=x.device)\n",
    "        \n",
    "        optimizer.zero_grad()\n",
    "        preds = model(x, t_eval_tensor)\n",
    "        y_true_adjusted = y[:, -1, :]\n",
    "        loss = criterion(preds, y_true_adjusted)\n",
    "        loss.backward()\n",
    "        optimizer.step()\n",
    "\n",
    "        epoch_losses.append(loss.item())\n",
    "    \n",
    "    train_loss = np.mean(epoch_losses)\n",
    "    train_losses.append(train_loss)\n",
    "\n",
    "    model.eval()\n",
    "    val_epoch_losses = []\n",
    "    with torch.no_grad():\n",
    "        for x, y in test_loader:\n",
    "            x, y = x.float(), y.float()\n",
    "            preds = model(x, t_eval_tensor)\n",
    "            y_true_adjusted = y[:, -1, :]\n",
    "            val_loss = criterion(preds, y_true_adjusted)\n",
    "            val_epoch_losses.append(val_loss.item())\n",
    "    \n",
    "    val_loss = np.mean(val_epoch_losses)\n",
    "    val_losses.append(val_loss)\n",
    "    print(f\"Epoch {epoch+1}: Train Loss = {train_loss:.4f}, Val Loss = {val_loss:.4f}\")\n",
    "\n",
    "    early_stopping(val_loss)\n",
    "    if early_stopping.early_stop:\n",
    "        print(\"Early stopping\")\n",
    "        break\n",
    "\n",
    "plt.figure(figsize=(10, 6))\n",
    "plt.plot(train_losses, label='Training Loss')\n",
    "plt.plot(val_losses, label='Validation Loss')\n",
    "plt.xlabel('Epoch')\n",
    "plt.ylabel('Loss')\n",
    "plt.title('Training and Validation Loss Over Epochs')\n",
    "plt.legend()\n",
    "plt.show()\n"
   ],
   "metadata": {
    "collapsed": false,
    "ExecuteTime": {
     "end_time": "2024-02-22T06:05:32.314637Z",
     "start_time": "2024-02-22T06:03:06.465583Z"
    }
   },
   "id": "3e9ad49018aa6085"
  },
  {
   "cell_type": "code",
   "execution_count": 106,
   "outputs": [
    {
     "ename": "NameError",
     "evalue": "name 'y_preds' is not defined",
     "output_type": "error",
     "traceback": [
      "\u001B[0;31m---------------------------------------------------------------------------\u001B[0m",
      "\u001B[0;31mNameError\u001B[0m                                 Traceback (most recent call last)",
      "Cell \u001B[0;32mIn[106], line 1\u001B[0m\n\u001B[0;32m----> 1\u001B[0m \u001B[43my_preds\u001B[49m\n",
      "\u001B[0;31mNameError\u001B[0m: name 'y_preds' is not defined"
     ]
    }
   ],
   "source": [
    "y_preds"
   ],
   "metadata": {
    "collapsed": false,
    "ExecuteTime": {
     "end_time": "2024-02-22T06:14:07.016437Z",
     "start_time": "2024-02-22T06:14:07.003592Z"
    }
   },
   "id": "a5c57a04793c2599"
  },
  {
   "cell_type": "code",
   "execution_count": 107,
   "outputs": [
    {
     "name": "stdout",
     "output_type": "stream",
     "text": [
      "Test Loss: 0.1856\n"
     ]
    },
    {
     "data": {
      "text/plain": "<Figure size 1000x600 with 1 Axes>",
      "image/png": "[encoded data removed]"
     },
     "metadata": {},
     "output_type": "display_data"
    }
   ],
   "source": [
    "test_losses = []\n",
    "model.eval()\n",
    "ys = []\n",
    "with torch.no_grad():\n",
    "    for x, y in test_loader:\n",
    "        x = x.float()\n",
    "        t_eval_tensor = torch.linspace(0., model.seq_len, steps=model.seq_len, device=x.device)\n",
    "        y_true = y.float()\n",
    "\n",
    "        preds = model(x, t_eval_tensor)\n",
    "        y_true_adjusted = y_true[:, -1, :]\n",
    "        ys.append(y_true_adjusted)\n",
    "        loss = criterion(preds, y_true_adjusted)\n",
    "\n",
    "        test_losses.append(loss.item())\n",
    "\n",
    "test_loss = np.mean(test_losses)\n",
    "print(f\"Test Loss: {test_loss:.4f}\")\n",
    "\n",
    "plt.figure(figsize=(10, 6))\n",
    "plt.plot(test_losses, label='Test Loss')\n",
    "plt.xlabel('Test Batch')\n",
    "plt.ylabel('Loss')\n",
    "plt.title('Test Loss')\n",
    "plt.legend()\n",
    "plt.show()\n"
   ],
   "metadata": {
    "collapsed": false,
    "ExecuteTime": {
     "end_time": "2024-02-22T06:14:33.476359Z",
     "start_time": "2024-02-22T06:14:32.840921Z"
    }
   },
   "id": "967896791644a52f"
  },
  {
   "cell_type": "code",
   "execution_count": 108,
   "outputs": [
    {
     "data": {
      "text/plain": "[tensor([[ 0.6426,  0.4318,  0.2220],\n         [ 0.3605,  0.3719,  0.1443],\n         [ 0.3024,  0.2718,  0.2453],\n         [ 0.7975,  0.5448,  0.1181],\n         [ 0.7607,  0.4650,  0.1904],\n         [ 0.4489,  0.4339,  0.1630],\n         [ 1.0127,  0.5219,  0.2902],\n         [ 0.3525,  0.3797,  0.4070],\n         [ 0.6124,  0.5185,  0.2511],\n         [ 0.5871,  0.3506,  0.1145],\n         [ 0.5247,  0.1258,  0.0710],\n         [ 0.8625,  0.7125,  0.2338],\n         [ 0.6842,  0.3904,  0.0579],\n         [ 0.5771,  0.4930,  0.0797],\n         [ 0.1574,  0.0969,  0.0101],\n         [ 0.3596, -0.0264, -0.1449],\n         [ 0.1738,  0.4750, -0.0094],\n         [ 0.7058,  0.6284,  0.3473],\n         [ 0.5521,  0.4833,  0.2496],\n         [ 0.3463,  0.2399,  0.1716],\n         [ 0.4525,  0.1772,  0.0951],\n         [ 0.5219,  0.4312,  0.1987],\n         [ 0.2677,  0.2892, -0.0029],\n         [ 0.4366,  0.0855,  0.2556],\n         [ 0.3368,  0.5808,  0.1295],\n         [ 0.2820,  0.1640, -0.0649],\n         [ 0.2436,  0.3225,  0.0032],\n         [ 0.2405,  0.3017,  0.1154],\n         [ 0.7153,  0.3907,  0.2022],\n         [ 0.4208,  0.2702,  0.0774],\n         [ 0.5848,  0.4859,  0.1564],\n         [ 0.5941,  0.5840,  0.4222]]),\n tensor([[ 3.8607e-01,  4.7439e-01,  3.1843e-01],\n         [ 4.3222e-01,  2.3785e-01,  2.7078e-01],\n         [ 4.8185e-01,  3.3654e-01,  1.3522e-01],\n         [ 3.0413e-01,  3.1732e-01,  3.5557e-02],\n         [ 5.3474e-01,  3.3026e-01,  2.1535e-01],\n         [ 5.6590e-01,  4.2599e-01,  3.7825e-02],\n         [ 5.2015e-01,  2.8635e-01,  8.6063e-02],\n         [ 3.6538e-01,  2.6617e-01, -9.9985e-02],\n         [ 7.1232e-01,  7.6203e-01,  1.0518e-01],\n         [ 4.1461e-01,  4.5046e-01,  1.4728e-01],\n         [ 1.6183e-01,  2.4677e-01,  8.2283e-02],\n         [ 4.1332e-01,  4.0533e-01,  9.0856e-02],\n         [ 4.9893e-02, -1.6649e-01,  9.2931e-02],\n         [ 5.3688e-01,  3.4166e-01,  6.7573e-03],\n         [ 5.3696e-01,  4.7160e-01,  9.2155e-02],\n         [ 2.6681e-01,  3.7386e-01,  2.6599e-01],\n         [ 5.4540e-01,  4.3816e-01,  6.9183e-03],\n         [ 5.4132e-01,  5.0075e-01,  2.6525e-01],\n         [ 6.0085e-01,  1.9001e-01,  4.7078e-02],\n         [ 9.3150e-01,  7.2327e-01,  3.3805e-01],\n         [ 3.3466e-01,  1.5680e-01,  2.2784e-01],\n         [ 7.5124e-01,  4.2458e-01,  1.3207e-01],\n         [ 2.8333e-01,  2.1448e-01,  1.0698e-01],\n         [ 2.5120e-01,  4.5617e-01,  2.4160e-01],\n         [ 7.8790e-01,  8.2092e-01,  2.8733e-01],\n         [ 3.4288e-01,  2.6396e-01,  3.1958e-01],\n         [ 2.9074e-01,  2.1167e-01,  1.7652e-01],\n         [ 8.9006e-02,  9.9067e-02,  6.6722e-02],\n         [ 1.5916e-01,  3.2103e-01,  4.8116e-02],\n         [ 3.3987e-01,  2.8635e-01, -3.6448e-04],\n         [ 3.4604e-01,  4.2915e-01,  2.7389e-02],\n         [ 4.7194e-01,  3.9404e-01,  2.0252e-01]]),\n tensor([[ 0.3185,  0.2025,  0.0314],\n         [ 0.6204,  0.4958,  0.2029],\n         [ 0.0587,  0.0505, -0.0401],\n         [ 0.7013,  0.3547,  0.2693],\n         [ 0.3690,  0.5482,  0.0802],\n         [ 0.2251,  0.1055,  0.1581],\n         [ 0.3289,  0.3368,  0.0902],\n         [ 0.5782,  0.4081,  0.1528],\n         [-0.0571,  0.1107,  0.1845],\n         [-0.0441,  0.1604,  0.0250],\n         [ 0.4156,  0.5926,  0.2039],\n         [ 0.5226,  0.4956,  0.1223],\n         [ 0.6455,  0.4271,  0.1249],\n         [ 0.4010,  0.3435, -0.0024],\n         [ 0.4513,  0.1258,  0.0667],\n         [ 0.3959,  0.2640,  0.3086],\n         [ 0.4143,  0.2899,  0.0694],\n         [ 0.5748,  0.4196,  0.1803],\n         [ 0.2109,  0.3209,  0.2277],\n         [ 0.7639,  0.5177,  0.1948],\n         [ 0.7757,  0.5698,  0.1977],\n         [ 0.5080,  0.5109,  0.1244],\n         [ 0.3373,  0.4622,  0.2157],\n         [ 0.2124,  0.1290,  0.1336],\n         [ 0.5283,  0.2302,  0.0579],\n         [ 0.3794,  0.2726,  0.1004],\n         [ 0.5066,  0.3289,  0.2170],\n         [ 0.2852,  0.1591,  0.0915],\n         [ 0.2071,  0.0883,  0.1943],\n         [ 0.7825,  0.5556,  0.0841],\n         [ 0.7760,  0.4972,  0.0732],\n         [ 0.4236,  0.4355,  0.0645]]),\n tensor([[ 0.1790,  0.4366,  0.2035],\n         [ 0.4446,  0.3793,  0.2565],\n         [ 0.7139,  0.6100,  0.2960],\n         [ 0.3093,  0.3387, -0.0013],\n         [ 0.1927,  0.3993,  0.0264],\n         [ 0.2469,  0.2071,  0.2022],\n         [ 0.5250,  0.4711,  0.1543],\n         [ 0.6446,  0.3323,  0.0372],\n         [ 0.5722,  0.5776,  0.3457],\n         [ 0.2826,  0.4159, -0.0049],\n         [ 0.4708,  0.3720,  0.2748],\n         [ 0.5169,  0.6123,  0.2074],\n         [ 0.4285,  0.1687,  0.1294],\n         [ 0.4895,  0.2876,  0.1206],\n         [ 0.6240,  0.5147,  0.4157],\n         [ 0.7103,  0.5238,  0.1249],\n         [ 0.8605,  0.6010,  0.3036],\n         [ 0.3140,  0.1408, -0.0593],\n         [ 0.8037,  0.7134,  0.3972],\n         [ 0.1362,  0.5639, -0.0092],\n         [ 0.0723,  0.1895,  0.0549],\n         [ 0.5514,  0.4191,  0.2789],\n         [ 0.2024,  0.1018,  0.1587],\n         [ 0.4189,  0.6109, -0.0256],\n         [ 0.3657,  0.3383,  0.0691],\n         [ 0.6715,  0.5586,  0.2767],\n         [ 0.4610,  0.3682,  0.0079],\n         [ 0.4948,  0.2538,  0.1070],\n         [ 0.0876,  0.2262,  0.0521],\n         [ 0.3370,  0.3305, -0.0406],\n         [ 0.4703,  0.2896,  0.1948],\n         [ 0.5416,  0.5101, -0.0523]]),\n tensor([[ 0.3392,  0.1527,  0.0802],\n         [ 0.4709,  0.5794,  0.1504],\n         [ 0.8121,  0.6190,  0.2590],\n         [ 0.3811,  0.3791,  0.0158],\n         [ 0.4198,  0.5753,  0.0216],\n         [ 0.3174,  0.1823,  0.0509],\n         [ 0.5637,  0.5296,  0.1213],\n         [ 0.5740,  0.5755,  0.2925],\n         [ 0.2264,  0.4164, -0.0187],\n         [ 0.6770,  0.4123,  0.2345],\n         [ 0.7628,  0.4445,  0.1449],\n         [ 0.7252,  0.6673,  0.3249],\n         [ 0.4241,  0.3148,  0.2908],\n         [ 0.1899,  0.4734, -0.1736],\n         [ 0.6898,  0.6187,  0.2235],\n         [ 0.2842,  0.2863,  0.0298],\n         [ 0.7492,  0.7798,  0.3875],\n         [ 0.7056,  0.4837,  0.2479],\n         [ 0.3319,  0.3064,  0.1706],\n         [ 0.4248,  0.2945,  0.3843],\n         [ 0.2930,  0.1331,  0.0339],\n         [ 0.7895,  0.4637,  0.2492],\n         [ 0.5138,  0.5543,  0.2600],\n         [ 0.5099,  0.4694,  0.1548],\n         [ 0.5770,  0.4782, -0.0046],\n         [ 0.7025,  0.4988,  0.1939],\n         [ 0.6492,  0.4597, -0.0687],\n         [ 0.3172,  0.2369,  0.2681],\n         [ 0.1346,  0.4907, -0.0240],\n         [ 0.7661,  0.5145,  0.0411],\n         [ 0.3954,  0.1661,  0.0436],\n         [ 0.7349,  0.5775,  0.2210]]),\n tensor([[ 0.7498,  0.5245,  0.1583],\n         [ 0.3500,  0.1928,  0.0411],\n         [ 0.5456,  0.2893,  0.2477],\n         [ 0.6404,  0.3505,  0.0456],\n         [ 0.3578,  0.3437,  0.1560],\n         [ 0.5994,  0.5080,  0.3781],\n         [ 0.4434,  0.3313, -0.0409],\n         [ 0.4845,  0.4885,  0.2285],\n         [ 0.1529,  0.1150,  0.0975],\n         [ 0.6926,  0.6640,  0.4946],\n         [ 0.9130,  0.5581,  0.2868],\n         [ 0.7054,  0.2787,  0.0230],\n         [ 0.2107,  0.0275,  0.1805],\n         [ 0.4887,  0.1089,  0.1585],\n         [ 0.6815,  0.6482,  0.3834],\n         [ 0.5692,  0.2710,  0.1630],\n         [ 0.7425,  0.6128,  0.1309],\n         [ 0.5175,  0.2549,  0.0849],\n         [ 0.4407,  0.1900,  0.1889],\n         [ 0.4712,  0.3077,  0.0850],\n         [ 0.7056,  0.8476,  0.2454],\n         [ 0.3709,  0.1944,  0.1233],\n         [ 0.4228,  0.4677,  0.2456],\n         [ 0.5839,  0.6248,  0.1213],\n         [ 0.5162,  0.4890, -0.0680],\n         [ 0.2347, -0.0021,  0.0165],\n         [ 0.7041,  0.5548,  0.0980],\n         [ 0.5404,  0.2213,  0.0246],\n         [ 0.2715,  0.2059,  0.0799],\n         [ 0.6217,  0.2468,  0.1807],\n         [ 0.7120,  0.5780,  0.1141],\n         [ 0.6929,  0.8294,  0.1336]]),\n tensor([[0.5624, 0.4442, 0.1650],\n         [0.9143, 0.5824, 0.1445],\n         [0.4692, 0.3171, 0.0393],\n         [0.7850, 0.5532, 0.0856],\n         [0.1259, 0.0142, 0.2441],\n         [0.4134, 0.5543, 0.1246],\n         [0.2789, 0.0421, 0.1390],\n         [0.2763, 0.4996, 0.0320]])]"
     },
     "execution_count": 108,
     "metadata": {},
     "output_type": "execute_result"
    }
   ],
   "source": [
    "ys"
   ],
   "metadata": {
    "collapsed": false,
    "ExecuteTime": {
     "end_time": "2024-02-22T06:14:38.381146Z",
     "start_time": "2024-02-22T06:14:38.354082Z"
    }
   },
   "id": "7e2aef157668fcaa"
  },
  {
   "cell_type": "code",
   "execution_count": 127,
   "outputs": [
    {
     "data": {
      "text/plain": "(800, 100, 3)"
     },
     "execution_count": 127,
     "metadata": {},
     "output_type": "execute_result"
    }
   ],
   "source": [
    "train_data.shape"
   ],
   "metadata": {
    "collapsed": false,
    "ExecuteTime": {
     "end_time": "2024-02-22T06:46:19.158138Z",
     "start_time": "2024-02-22T06:46:19.141316Z"
    }
   },
   "id": "590ebf4bfb7dcaf6"
  },
  {
   "cell_type": "code",
   "execution_count": 125,
   "outputs": [],
   "source": [
    "class ODEFunc(nn.Module):\n",
    "    def __init__(self, hidden_size):\n",
    "        super(ODEFunc, self).__init__()\n",
    "        self.net = nn.Sequential(\n",
    "            nn.Linear(hidden_size, hidden_size),\n",
    "            nn.Tanh(),\n",
    "            nn.Linear(hidden_size, hidden_size),\n",
    "        )\n",
    "    \n",
    "    def forward(self, t, y):\n",
    "        return self.net(y)\n",
    "\n",
    "class HybridODELSTMModel(nn.Module):\n",
    "    def __init__(self, input_size, hidden_size, output_size, seq_len):\n",
    "        super(HybridODELSTMModel, self).__init__()\n",
    "        self.seq_len = seq_len\n",
    "        self.lstm = nn.LSTM(input_size=input_size, hidden_size=hidden_size, batch_first=True)\n",
    "        self.ode_func = ODEFunc(hidden_size)\n",
    "        self.fc = nn.Linear(hidden_size, output_size)\n",
    "    \n",
    "    def forward(self, x, t_span):\n",
    "        lstm_out, (h_n, c_n) = self.lstm(x)\n",
    "        h_n = h_n[-1]\n",
    "        ode_sol = odeint(self.ode_func, h_n, t_span, method=\"dopri5\")\n",
    "        out = self.fc(ode_sol[-1])\n",
    "        return out\n",
    "\n",
    "def three_comp_ode(t, y, Qk, Qt, Kpk, Kpt, Vv, Vk, Vt):\n",
    "    V, K, T = y.unbind()\n",
    "    dVdt = - (Qk/Vv)*V + (Qk/Vk)*Kpk*K - (Qt/Vv)*V + (Qt/Vt)*Kpt*T\n",
    "    dKdt = (Qk/Vk) * Kpk * V - (Qk/Vk)*K\n",
    "    dTdt = (Qt/Vt) * Kpt * V - (Qt/Vt)*T\n",
    "    return torch.stack([dVdt, dKdt, dTdt])\n",
    "\n"
   ],
   "metadata": {
    "collapsed": false,
    "ExecuteTime": {
     "end_time": "2024-02-22T06:44:25.170115Z",
     "start_time": "2024-02-22T06:44:25.158873Z"
    }
   },
   "id": "53775489e55a806e"
  },
  {
   "cell_type": "code",
   "execution_count": 130,
   "outputs": [
    {
     "ename": "ValueError",
     "evalue": "too many values to unpack (expected 3)",
     "output_type": "error",
     "traceback": [
      "\u001B[0;31m---------------------------------------------------------------------------\u001B[0m",
      "\u001B[0;31mValueError\u001B[0m                                Traceback (most recent call last)",
      "Cell \u001B[0;32mIn[130], line 50\u001B[0m\n\u001B[1;32m     46\u001B[0m t_span_tensor \u001B[38;5;241m=\u001B[39m torch\u001B[38;5;241m.\u001B[39mlinspace(\u001B[38;5;241m0.\u001B[39m, seq_len, steps\u001B[38;5;241m=\u001B[39mseq_len, device\u001B[38;5;241m=\u001B[39m\u001B[38;5;124m'\u001B[39m\u001B[38;5;124mcuda\u001B[39m\u001B[38;5;124m'\u001B[39m \u001B[38;5;28;01mif\u001B[39;00m torch\u001B[38;5;241m.\u001B[39mcuda\u001B[38;5;241m.\u001B[39mis_available() \u001B[38;5;28;01melse\u001B[39;00m \u001B[38;5;124m'\u001B[39m\u001B[38;5;124mcpu\u001B[39m\u001B[38;5;124m'\u001B[39m, requires_grad\u001B[38;5;241m=\u001B[39m\u001B[38;5;28;01mTrue\u001B[39;00m)\u001B[38;5;241m.\u001B[39mfloat()  \n\u001B[1;32m     49\u001B[0m \u001B[38;5;66;03m# Train the model with PINN loss\u001B[39;00m\n\u001B[0;32m---> 50\u001B[0m model \u001B[38;5;241m=\u001B[39m \u001B[43mtrain_pinn\u001B[49m\u001B[43m(\u001B[49m\u001B[43mmodel\u001B[49m\u001B[43m,\u001B[49m\u001B[43m \u001B[49m\u001B[43mtrain_loader\u001B[49m\u001B[43m,\u001B[49m\u001B[43m \u001B[49m\u001B[43moptimizer\u001B[49m\u001B[43m,\u001B[49m\u001B[43m \u001B[49m\u001B[43mcriterion\u001B[49m\u001B[43m,\u001B[49m\u001B[43m \u001B[49m\u001B[38;5;241;43m100\u001B[39;49m\u001B[43m,\u001B[49m\u001B[43m \u001B[49m\u001B[43mQk\u001B[49m\u001B[43m,\u001B[49m\u001B[43m \u001B[49m\u001B[43mQt\u001B[49m\u001B[43m,\u001B[49m\u001B[43m \u001B[49m\u001B[43mKpk\u001B[49m\u001B[43m,\u001B[49m\u001B[43m \u001B[49m\u001B[43mKpt\u001B[49m\u001B[43m,\u001B[49m\u001B[43m \u001B[49m\u001B[43mVv\u001B[49m\u001B[43m,\u001B[49m\u001B[43m \u001B[49m\u001B[43mVk\u001B[49m\u001B[43m,\u001B[49m\u001B[43m \u001B[49m\u001B[43mVt\u001B[49m\u001B[43m,\u001B[49m\u001B[43mt_span_tensor\u001B[49m\u001B[43m)\u001B[49m\n",
      "Cell \u001B[0;32mIn[130], line 22\u001B[0m, in \u001B[0;36mtrain_pinn\u001B[0;34m(model, train_loader, optimizer, criterion, num_epochs, Qk, Qt, Kpk, Kpt, Vv, Vk, Vt, t_span_tensor)\u001B[0m\n\u001B[1;32m     17\u001B[0m d_preds \u001B[38;5;241m=\u001B[39m torch\u001B[38;5;241m.\u001B[39mautograd\u001B[38;5;241m.\u001B[39mgrad(outputs\u001B[38;5;241m=\u001B[39mpreds, inputs\u001B[38;5;241m=\u001B[39mt_span_tensor, \n\u001B[1;32m     18\u001B[0m                           grad_outputs\u001B[38;5;241m=\u001B[39mtorch\u001B[38;5;241m.\u001B[39mones_like(preds), \n\u001B[1;32m     19\u001B[0m                           create_graph\u001B[38;5;241m=\u001B[39m\u001B[38;5;28;01mTrue\u001B[39;00m, retain_graph\u001B[38;5;241m=\u001B[39m\u001B[38;5;28;01mTrue\u001B[39;00m)[\u001B[38;5;241m0\u001B[39m] \n\u001B[1;32m     21\u001B[0m \u001B[38;5;66;03m# Evaluate your PBPK ODE with predictions\u001B[39;00m\n\u001B[0;32m---> 22\u001B[0m ode_evals \u001B[38;5;241m=\u001B[39m \u001B[43mthree_comp_ode\u001B[49m\u001B[43m(\u001B[49m\u001B[43mt_span_tensor\u001B[49m\u001B[43m,\u001B[49m\u001B[43m \u001B[49m\u001B[43mpreds\u001B[49m\u001B[43m,\u001B[49m\u001B[43m \u001B[49m\u001B[43mQk\u001B[49m\u001B[43m,\u001B[49m\u001B[43m \u001B[49m\u001B[43mQt\u001B[49m\u001B[43m,\u001B[49m\u001B[43m \u001B[49m\u001B[43mKpk\u001B[49m\u001B[43m,\u001B[49m\u001B[43m \u001B[49m\u001B[43mKpt\u001B[49m\u001B[43m,\u001B[49m\u001B[43m \u001B[49m\u001B[43mVv\u001B[49m\u001B[43m,\u001B[49m\u001B[43m \u001B[49m\u001B[43mVk\u001B[49m\u001B[43m,\u001B[49m\u001B[43m \u001B[49m\u001B[43mVt\u001B[49m\u001B[43m)\u001B[49m \n\u001B[1;32m     24\u001B[0m \u001B[38;5;66;03m# Physics loss (compare predicted derivatives to ODE output)\u001B[39;00m\n\u001B[1;32m     25\u001B[0m physics_loss \u001B[38;5;241m+\u001B[39m\u001B[38;5;241m=\u001B[39m criterion(d_preds, ode_evals) \n",
      "Cell \u001B[0;32mIn[125], line 33\u001B[0m, in \u001B[0;36mthree_comp_ode\u001B[0;34m(t, y, Qk, Qt, Kpk, Kpt, Vv, Vk, Vt)\u001B[0m\n\u001B[1;32m     32\u001B[0m \u001B[38;5;28;01mdef\u001B[39;00m \u001B[38;5;21mthree_comp_ode\u001B[39m(t, y, Qk, Qt, Kpk, Kpt, Vv, Vk, Vt):\n\u001B[0;32m---> 33\u001B[0m     V, K, T \u001B[38;5;241m=\u001B[39m y\u001B[38;5;241m.\u001B[39munbind()\n\u001B[1;32m     34\u001B[0m     dVdt \u001B[38;5;241m=\u001B[39m \u001B[38;5;241m-\u001B[39m (Qk\u001B[38;5;241m/\u001B[39mVv)\u001B[38;5;241m*\u001B[39mV \u001B[38;5;241m+\u001B[39m (Qk\u001B[38;5;241m/\u001B[39mVk)\u001B[38;5;241m*\u001B[39mKpk\u001B[38;5;241m*\u001B[39mK \u001B[38;5;241m-\u001B[39m (Qt\u001B[38;5;241m/\u001B[39mVv)\u001B[38;5;241m*\u001B[39mV \u001B[38;5;241m+\u001B[39m (Qt\u001B[38;5;241m/\u001B[39mVt)\u001B[38;5;241m*\u001B[39mKpt\u001B[38;5;241m*\u001B[39mT\n\u001B[1;32m     35\u001B[0m     dKdt \u001B[38;5;241m=\u001B[39m (Qk\u001B[38;5;241m/\u001B[39mVk) \u001B[38;5;241m*\u001B[39m Kpk \u001B[38;5;241m*\u001B[39m V \u001B[38;5;241m-\u001B[39m (Qk\u001B[38;5;241m/\u001B[39mVk)\u001B[38;5;241m*\u001B[39mK\n",
      "\u001B[0;31mValueError\u001B[0m: too many values to unpack (expected 3)"
     ]
    }
   ],
   "source": [
    "def train_pinn(model, train_loader, optimizer, criterion, num_epochs, Qk, Qt, Kpk, Kpt, Vv, Vk, Vt,t_span_tensor):\n",
    "    for epoch in range(num_epochs):\n",
    "        model.train()\n",
    "        total_loss = 0\n",
    "        for batch_idx, (x, y) in enumerate(train_loader):\n",
    "            x, y = x.float(), y.float()\n",
    "            optimizer.zero_grad()\n",
    "            \n",
    "            # Forward pass: compute predictions\n",
    "            preds = model(x, t_span_tensor)\n",
    "            y_true_adjusted = y[:, -1, :]\n",
    "            \n",
    "            # Compute the MSE loss (data-fidelity term)\n",
    "            mse_loss = criterion(preds, y_true_adjusted)\n",
    "            \n",
    "            # Calculate derivatives with respect to time\n",
    "            d_preds = torch.autograd.grad(outputs=preds, inputs=t_span_tensor, \n",
    "                                      grad_outputs=torch.ones_like(preds), \n",
    "                                      create_graph=True, retain_graph=True)[0] \n",
    "\n",
    "            # Evaluate your PBPK ODE with predictions\n",
    "            ode_evals = three_comp_ode(t_span_tensor, preds, Qk, Qt, Kpk, Kpt, Vv, Vk, Vt) \n",
    "\n",
    "            # Physics loss (compare predicted derivatives to ODE output)\n",
    "            physics_loss += criterion(d_preds, ode_evals) \n",
    "            \n",
    "            # Total loss is the sum of data-fidelity and physics-fidelity terms\n",
    "            loss = mse_loss #+ physics_loss\n",
    "            loss.backward()\n",
    "            optimizer.step()\n",
    "            \n",
    "            total_loss += loss.item()\n",
    "        \n",
    "        print(f\"Epoch {epoch+1}/{num_epochs}, Loss: {total_loss/len(train_loader)}\")\n",
    "    \n",
    "    return model\n",
    "\n",
    "# Instantiate the model\n",
    "model = HybridODELSTMModel(input_size, hidden_size, output_size, seq_len)\n",
    "\n",
    "# Define optimizer and loss function\n",
    "optimizer = torch.optim.Adam(model.parameters())\n",
    "criterion = torch.nn.MSELoss()\n",
    "\n",
    "# Define the time span tensor outside the loop for efficiency\n",
    "t_span_tensor = torch.linspace(0., seq_len, steps=seq_len, device='cuda' if torch.cuda.is_available() else 'cpu', requires_grad=True).float()  \n",
    "\n",
    "\n",
    "# Train the model with PINN loss\n",
    "model = train_pinn(model, train_loader, optimizer, criterion, 100, Qk, Qt, Kpk, Kpt, Vv, Vk, Vt,t_span_tensor)\n"
   ],
   "metadata": {
    "collapsed": false,
    "ExecuteTime": {
     "end_time": "2024-02-22T06:57:54.914752Z",
     "start_time": "2024-02-22T06:57:54.702837Z"
    }
   },
   "id": "9cd953db9f6125fd"
  },
  {
   "cell_type": "code",
   "execution_count": null,
   "outputs": [],
   "source": [],
   "metadata": {
    "collapsed": false
   },
   "id": "607758518d25d3d8"
  }
 ],
 "metadata": {
  "kernelspec": {
   "display_name": "Python 3",
   "language": "python",
   "name": "python3"
  },
  "language_info": {
   "codemirror_mode": {
    "name": "ipython",
    "version": 2
   },
   "file_extension": ".py",
   "mimetype": "text/x-python",
   "name": "python",
   "nbconvert_exporter": "python",
   "pygments_lexer": "ipython2",
   "version": "2.7.6"
  }
 },
 "nbformat": 4,
 "nbformat_minor": 5
}
