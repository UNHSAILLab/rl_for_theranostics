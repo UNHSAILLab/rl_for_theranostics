{
 "nbformat": 4,
 "nbformat_minor": 2,
 "metadata": {
  "colab": {
   "name": "PBPK_Model_with_Machine_Learning.ipynb",
   "provenance": []
  },
  "kernelspec": {
   "name": "python3",
   "language": "python",
   "display_name": "Python 3 (ipykernel)"
  }
 },
 "cells": [
  {
   "cell_type": "markdown",
   "metadata": {},
   "source": [
    "# Physiologically-Based Pharmacokinetic (PBPK) Model with Machine Learning\n",
    "In this notebook, we implement a simplified PBPK model to simulate the concentration of a drug in different compartments of the body. We also generate data that can be used for training a machine learning model."
   ]
  },
  {
   "cell_type": "code",
   "metadata": {
    "ExecuteTime": {
     "end_time": "2023-09-12T02:57:07.007045Z",
     "start_time": "2023-09-12T02:57:06.996950Z"
    }
   },
   "source": [
    "class Patient:\n",
    "    def __init__(self, age, weight):\n",
    "        self.age = age\n",
    "        self.weight = weight\n",
    "        self.volume = {'blood': 5000, 'liver': 1500, 'kidney': 200}  # volumes in mL"
   ],
   "execution_count": 1,
   "outputs": []
  },
  {
   "cell_type": "code",
   "metadata": {
    "ExecuteTime": {
     "end_time": "2023-09-12T02:57:11.822602Z",
     "start_time": "2023-09-12T02:57:11.799095Z"
    }
   },
   "source": [
    "class Therapy:\n",
    "    def __init__(self, drug_dose):\n",
    "        self.drug_dose = drug_dose  # in mg"
   ],
   "execution_count": 2,
   "outputs": []
  },
  {
   "cell_type": "code",
   "metadata": {
    "ExecuteTime": {
     "end_time": "2023-09-12T02:57:13.829323Z",
     "start_time": "2023-09-12T02:57:13.825597Z"
    }
   },
   "source": [
    "class Encoder:\n",
    "    def __init__(self, patient, therapy):\n",
    "        self.patient = patient\n",
    "        self.therapy = therapy"
   ],
   "execution_count": 3,
   "outputs": []
  },
  {
   "cell_type": "code",
   "metadata": {
    "ExecuteTime": {
     "end_time": "2023-09-12T02:57:25.278945Z",
     "start_time": "2023-09-12T02:57:25.274038Z"
    }
   },
   "source": [
    "class StiffSolver:\n",
    "    def __init__(self, encoder):\n",
    "        self.encoder = encoder\n",
    "        self.dt = 0.1  # time step in hours\n",
    "        self.time = 10  # total time in hours\n",
    "        self.C = {'blood': 0, 'liver': 0, 'kidney': 0}  # initial concentrations\n",
    "        self.results = {'blood': [], 'liver': [], 'kidney': []}\n",
    "\n",
    "    def solve(self):\n",
    "        ke = 0.1  # elimination rate constant in 1/hour\n",
    "        F = 1000  # flow rate in mL/hour\n",
    "        for t in range(int(self.time / self.dt)):\n",
    "            input_rate = self.encoder.therapy.drug_dose\n",
    "            for compartment in ['blood', 'liver', 'kidney']:\n",
    "                dC_dt = 0\n",
    "                if compartment == 'blood':\n",
    "                    dC_dt += input_rate / self.encoder.patient.volume[compartment]\n",
    "                    dC_dt -= F / self.encoder.patient.volume[compartment] * (self.C[compartment] - self.C['liver'])\n",
    "                    dC_dt -= F / self.encoder.patient.volume[compartment] * (self.C[compartment] - self.C['kidney'])\n",
    "                    dC_dt -= ke * self.C[compartment]\n",
    "                else:\n",
    "                    dC_dt += F / self.encoder.patient.volume[compartment] * (self.C['blood'] - self.C[compartment])\n",
    "\n",
    "                self.C[compartment] += dC_dt * self.dt\n",
    "                self.results[compartment].append(self.C[compartment])\n",
    "\n",
    "    def get_results(self):\n",
    "        return self.results"
   ],
   "execution_count": 5,
   "outputs": []
  },
  {
   "cell_type": "markdown",
   "metadata": {},
   "source": [
    "## Data Generation\n",
    "The data generator remains largely the same. You would pull out the concentration values for the compartments you are interested in."
   ]
  },
  {
   "cell_type": "code",
   "execution_count": 8,
   "outputs": [],
   "source": [
    "import pandas as pd\n",
    "import random\n",
    "\n",
    "def generate_data(num_samples):\n",
    "    data = []\n",
    "\n",
    "    for _ in range(num_samples):\n",
    "        # Initialize random patient and therapy parameters\n",
    "        age = random.randint(18, 80)\n",
    "        weight = random.randint(50, 100)\n",
    "        drug_dose = random.uniform(0.1, 1.0)\n",
    "\n",
    "        # Run the PBPK model simulation\n",
    "        patient_model = Patient(age=age, weight=weight)\n",
    "        therapy_model = Therapy(drug_dose=drug_dose)\n",
    "        encoder_model = Encoder(patient_model, therapy_model)\n",
    "        solver_model = StiffSolver(encoder_model)\n",
    "        solver_model.solve()\n",
    "\n",
    "        # Extract the simulation results\n",
    "        # Assuming the solver has a method get_results that returns a dictionary of results\n",
    "        results = solver_model.get_results()\n",
    "\n",
    "        # Create a data sample\n",
    "        sample = {'age': age, 'weight': weight, 'drug_dose': drug_dose, **results}\n",
    "        data.append(sample)\n",
    "\n",
    "    return pd.DataFrame(data)\n"
   ],
   "metadata": {
    "collapsed": false,
    "ExecuteTime": {
     "end_time": "2023-09-12T03:08:34.974532Z",
     "start_time": "2023-09-12T03:08:34.967835Z"
    }
   }
  },
  {
   "cell_type": "code",
   "execution_count": 9,
   "outputs": [
    {
     "data": {
      "text/plain": "     age  weight  drug_dose  \\\n0     57      92   0.581885   \n1     20      89   0.430369   \n2     38      50   0.105530   \n3     35      67   0.814035   \n4     48      70   0.677282   \n..   ...     ...        ...   \n995   25      59   0.971865   \n996   49      69   0.557637   \n997   50      96   0.747373   \n998   22      78   0.205173   \n999   72      77   0.269501   \n\n                                                 blood  \\\n0    [1.1637692658849684e-05, 2.2825394534890515e-0...   \n1    [8.607374129633372e-06, 1.688192979292092e-05,...   \n2    [2.110590449079747e-06, 4.1395714007950765e-06...   \n3    [1.628070822293198e-05, 3.193189572791059e-05,...   \n4    [1.3545635275735054e-05, 2.656750598747502e-05...   \n..                                                 ...   \n995  [1.943729968278837e-05, 3.812302377784226e-05,...   \n996  [1.115273928092337e-05, 2.1874239309651035e-05...   \n997  [1.494745547473113e-05, 2.9316942671105992e-05...   \n998  [4.103461293219657e-06, 8.04825541643482e-06, ...   \n999  [5.390017311790244e-06, 1.0571620620857932e-05...   \n\n                                                 liver  \\\n0    [7.758461772566456e-07, 2.24581606776557e-06, ...   \n1    [5.738249419755581e-07, 1.661031932038582e-06,...   \n2    [1.407060299386498e-07, 4.0729705466241164e-07...   \n3    [1.0853805481954653e-06, 3.141814893509807e-06...   \n4    [9.030423517156702e-07, 2.614006594099627e-06,...   \n..                                                 ...   \n995  [1.2958199788525581e-06, 3.7509668987852048e-0...   \n996  [7.43515952061558e-07, 2.1522308425675233e-06,...   \n997  [9.96497031648742e-07, 2.884526740945892e-06, ...   \n998  [2.735640862146438e-07, 7.918768415626556e-07,...   \n999  [3.5933448745268294e-07, 1.0401535630130329e-0...   \n\n                                                kidney  \n0    [5.818846329424842e-06, 1.432212043215768e-05,...  \n1    [4.303687064816686e-06, 1.0592808428868804e-05...  \n2    [1.0552952245398735e-06, 2.597433312667475e-06...  \n3    [8.140354111465992e-06, 2.003612491968829e-05,...  \n4    [6.772817637867527e-06, 1.6670161812671275e-05...  \n..                                                 ...  \n995  [9.718649841394187e-06, 2.3920836809618223e-05...  \n996  [5.576369640461685e-06, 1.3725304475056362e-05...  \n997  [7.473727737365566e-06, 1.839533520423578e-05,...  \n998  [2.0517306466098283e-06, 5.049993031522324e-06...  \n999  [2.695008655895122e-06, 6.633314638376528e-06,...  \n\n[1000 rows x 6 columns]",
      "text/html": "<div>\n<style scoped>\n    .dataframe tbody tr th:only-of-type {\n        vertical-align: middle;\n    }\n\n    .dataframe tbody tr th {\n        vertical-align: top;\n    }\n\n    .dataframe thead th {\n        text-align: right;\n    }\n</style>\n<table border=\"1\" class=\"dataframe\">\n  <thead>\n    <tr style=\"text-align: right;\">\n      <th></th>\n      <th>age</th>\n      <th>weight</th>\n      <th>drug_dose</th>\n      <th>blood</th>\n      <th>liver</th>\n      <th>kidney</th>\n    </tr>\n  </thead>\n  <tbody>\n    <tr>\n      <th>0</th>\n      <td>57</td>\n      <td>92</td>\n      <td>0.581885</td>\n      <td>[1.1637692658849684e-05, 2.2825394534890515e-0...</td>\n      <td>[7.758461772566456e-07, 2.24581606776557e-06, ...</td>\n      <td>[5.818846329424842e-06, 1.432212043215768e-05,...</td>\n    </tr>\n    <tr>\n      <th>1</th>\n      <td>20</td>\n      <td>89</td>\n      <td>0.430369</td>\n      <td>[8.607374129633372e-06, 1.688192979292092e-05,...</td>\n      <td>[5.738249419755581e-07, 1.661031932038582e-06,...</td>\n      <td>[4.303687064816686e-06, 1.0592808428868804e-05...</td>\n    </tr>\n    <tr>\n      <th>2</th>\n      <td>38</td>\n      <td>50</td>\n      <td>0.105530</td>\n      <td>[2.110590449079747e-06, 4.1395714007950765e-06...</td>\n      <td>[1.407060299386498e-07, 4.0729705466241164e-07...</td>\n      <td>[1.0552952245398735e-06, 2.597433312667475e-06...</td>\n    </tr>\n    <tr>\n      <th>3</th>\n      <td>35</td>\n      <td>67</td>\n      <td>0.814035</td>\n      <td>[1.628070822293198e-05, 3.193189572791059e-05,...</td>\n      <td>[1.0853805481954653e-06, 3.141814893509807e-06...</td>\n      <td>[8.140354111465992e-06, 2.003612491968829e-05,...</td>\n    </tr>\n    <tr>\n      <th>4</th>\n      <td>48</td>\n      <td>70</td>\n      <td>0.677282</td>\n      <td>[1.3545635275735054e-05, 2.656750598747502e-05...</td>\n      <td>[9.030423517156702e-07, 2.614006594099627e-06,...</td>\n      <td>[6.772817637867527e-06, 1.6670161812671275e-05...</td>\n    </tr>\n    <tr>\n      <th>...</th>\n      <td>...</td>\n      <td>...</td>\n      <td>...</td>\n      <td>...</td>\n      <td>...</td>\n      <td>...</td>\n    </tr>\n    <tr>\n      <th>995</th>\n      <td>25</td>\n      <td>59</td>\n      <td>0.971865</td>\n      <td>[1.943729968278837e-05, 3.812302377784226e-05,...</td>\n      <td>[1.2958199788525581e-06, 3.7509668987852048e-0...</td>\n      <td>[9.718649841394187e-06, 2.3920836809618223e-05...</td>\n    </tr>\n    <tr>\n      <th>996</th>\n      <td>49</td>\n      <td>69</td>\n      <td>0.557637</td>\n      <td>[1.115273928092337e-05, 2.1874239309651035e-05...</td>\n      <td>[7.43515952061558e-07, 2.1522308425675233e-06,...</td>\n      <td>[5.576369640461685e-06, 1.3725304475056362e-05...</td>\n    </tr>\n    <tr>\n      <th>997</th>\n      <td>50</td>\n      <td>96</td>\n      <td>0.747373</td>\n      <td>[1.494745547473113e-05, 2.9316942671105992e-05...</td>\n      <td>[9.96497031648742e-07, 2.884526740945892e-06, ...</td>\n      <td>[7.473727737365566e-06, 1.839533520423578e-05,...</td>\n    </tr>\n    <tr>\n      <th>998</th>\n      <td>22</td>\n      <td>78</td>\n      <td>0.205173</td>\n      <td>[4.103461293219657e-06, 8.04825541643482e-06, ...</td>\n      <td>[2.735640862146438e-07, 7.918768415626556e-07,...</td>\n      <td>[2.0517306466098283e-06, 5.049993031522324e-06...</td>\n    </tr>\n    <tr>\n      <th>999</th>\n      <td>72</td>\n      <td>77</td>\n      <td>0.269501</td>\n      <td>[5.390017311790244e-06, 1.0571620620857932e-05...</td>\n      <td>[3.5933448745268294e-07, 1.0401535630130329e-0...</td>\n      <td>[2.695008655895122e-06, 6.633314638376528e-06,...</td>\n    </tr>\n  </tbody>\n</table>\n<p>1000 rows × 6 columns</p>\n</div>"
     },
     "execution_count": 9,
     "metadata": {},
     "output_type": "execute_result"
    }
   ],
   "source": [
    "generate_data(1000)"
   ],
   "metadata": {
    "collapsed": false,
    "ExecuteTime": {
     "end_time": "2023-09-12T03:11:24.393957Z",
     "start_time": "2023-09-12T03:11:24.167912Z"
    }
   }
  },
  {
   "cell_type": "markdown",
   "metadata": {},
   "source": [
    "## Machine Learning Model\n",
    "You can use the generated data to train a machine learning model, just like in the previous examples."
   ]
  },
  {
   "cell_type": "code",
   "execution_count": 7,
   "outputs": [
    {
     "ename": "KeyError",
     "evalue": "'some_simulation_result'",
     "output_type": "error",
     "traceback": [
      "\u001B[0;31m---------------------------------------------------------------------------\u001B[0m",
      "\u001B[0;31mKeyError\u001B[0m                                  Traceback (most recent call last)",
      "File \u001B[0;32m~/miniforge3/envs/tf_gpu/lib/python3.9/site-packages/pandas/core/indexes/base.py:3621\u001B[0m, in \u001B[0;36mIndex.get_loc\u001B[0;34m(self, key, method, tolerance)\u001B[0m\n\u001B[1;32m   3620\u001B[0m \u001B[38;5;28;01mtry\u001B[39;00m:\n\u001B[0;32m-> 3621\u001B[0m     \u001B[38;5;28;01mreturn\u001B[39;00m \u001B[38;5;28;43mself\u001B[39;49m\u001B[38;5;241;43m.\u001B[39;49m\u001B[43m_engine\u001B[49m\u001B[38;5;241;43m.\u001B[39;49m\u001B[43mget_loc\u001B[49m\u001B[43m(\u001B[49m\u001B[43mcasted_key\u001B[49m\u001B[43m)\u001B[49m\n\u001B[1;32m   3622\u001B[0m \u001B[38;5;28;01mexcept\u001B[39;00m \u001B[38;5;167;01mKeyError\u001B[39;00m \u001B[38;5;28;01mas\u001B[39;00m err:\n",
      "File \u001B[0;32m~/miniforge3/envs/tf_gpu/lib/python3.9/site-packages/pandas/_libs/index.pyx:136\u001B[0m, in \u001B[0;36mpandas._libs.index.IndexEngine.get_loc\u001B[0;34m()\u001B[0m\n",
      "File \u001B[0;32m~/miniforge3/envs/tf_gpu/lib/python3.9/site-packages/pandas/_libs/index.pyx:163\u001B[0m, in \u001B[0;36mpandas._libs.index.IndexEngine.get_loc\u001B[0;34m()\u001B[0m\n",
      "File \u001B[0;32mpandas/_libs/hashtable_class_helper.pxi:5198\u001B[0m, in \u001B[0;36mpandas._libs.hashtable.PyObjectHashTable.get_item\u001B[0;34m()\u001B[0m\n",
      "File \u001B[0;32mpandas/_libs/hashtable_class_helper.pxi:5206\u001B[0m, in \u001B[0;36mpandas._libs.hashtable.PyObjectHashTable.get_item\u001B[0;34m()\u001B[0m\n",
      "\u001B[0;31mKeyError\u001B[0m: 'some_simulation_result'",
      "\nThe above exception was the direct cause of the following exception:\n",
      "\u001B[0;31mKeyError\u001B[0m                                  Traceback (most recent call last)",
      "Input \u001B[0;32mIn [7]\u001B[0m, in \u001B[0;36m<module>\u001B[0;34m\u001B[0m\n\u001B[1;32m      9\u001B[0m \u001B[38;5;66;03m# Preprocess the data\u001B[39;00m\n\u001B[1;32m     10\u001B[0m \u001B[38;5;66;03m# For simplicity, let's assume no preprocessing is needed.\u001B[39;00m\n\u001B[1;32m     11\u001B[0m X \u001B[38;5;241m=\u001B[39m data[[\u001B[38;5;124m'\u001B[39m\u001B[38;5;124mage\u001B[39m\u001B[38;5;124m'\u001B[39m, \u001B[38;5;124m'\u001B[39m\u001B[38;5;124mweight\u001B[39m\u001B[38;5;124m'\u001B[39m, \u001B[38;5;124m'\u001B[39m\u001B[38;5;124mdrug_dose\u001B[39m\u001B[38;5;124m'\u001B[39m]]\n\u001B[0;32m---> 12\u001B[0m y \u001B[38;5;241m=\u001B[39m \u001B[43mdata\u001B[49m\u001B[43m[\u001B[49m\u001B[38;5;124;43m'\u001B[39;49m\u001B[38;5;124;43msome_simulation_result\u001B[39;49m\u001B[38;5;124;43m'\u001B[39;49m\u001B[43m]\u001B[49m  \u001B[38;5;66;03m# Replace with actual result column name\u001B[39;00m\n\u001B[1;32m     14\u001B[0m \u001B[38;5;66;03m# Split the data into training and test sets\u001B[39;00m\n\u001B[1;32m     15\u001B[0m X_train, X_test, y_train, y_test \u001B[38;5;241m=\u001B[39m train_test_split(X, y, test_size\u001B[38;5;241m=\u001B[39m\u001B[38;5;241m0.2\u001B[39m, random_state\u001B[38;5;241m=\u001B[39m\u001B[38;5;241m42\u001B[39m)\n",
      "File \u001B[0;32m~/miniforge3/envs/tf_gpu/lib/python3.9/site-packages/pandas/core/frame.py:3505\u001B[0m, in \u001B[0;36mDataFrame.__getitem__\u001B[0;34m(self, key)\u001B[0m\n\u001B[1;32m   3503\u001B[0m \u001B[38;5;28;01mif\u001B[39;00m \u001B[38;5;28mself\u001B[39m\u001B[38;5;241m.\u001B[39mcolumns\u001B[38;5;241m.\u001B[39mnlevels \u001B[38;5;241m>\u001B[39m \u001B[38;5;241m1\u001B[39m:\n\u001B[1;32m   3504\u001B[0m     \u001B[38;5;28;01mreturn\u001B[39;00m \u001B[38;5;28mself\u001B[39m\u001B[38;5;241m.\u001B[39m_getitem_multilevel(key)\n\u001B[0;32m-> 3505\u001B[0m indexer \u001B[38;5;241m=\u001B[39m \u001B[38;5;28;43mself\u001B[39;49m\u001B[38;5;241;43m.\u001B[39;49m\u001B[43mcolumns\u001B[49m\u001B[38;5;241;43m.\u001B[39;49m\u001B[43mget_loc\u001B[49m\u001B[43m(\u001B[49m\u001B[43mkey\u001B[49m\u001B[43m)\u001B[49m\n\u001B[1;32m   3506\u001B[0m \u001B[38;5;28;01mif\u001B[39;00m is_integer(indexer):\n\u001B[1;32m   3507\u001B[0m     indexer \u001B[38;5;241m=\u001B[39m [indexer]\n",
      "File \u001B[0;32m~/miniforge3/envs/tf_gpu/lib/python3.9/site-packages/pandas/core/indexes/base.py:3623\u001B[0m, in \u001B[0;36mIndex.get_loc\u001B[0;34m(self, key, method, tolerance)\u001B[0m\n\u001B[1;32m   3621\u001B[0m     \u001B[38;5;28;01mreturn\u001B[39;00m \u001B[38;5;28mself\u001B[39m\u001B[38;5;241m.\u001B[39m_engine\u001B[38;5;241m.\u001B[39mget_loc(casted_key)\n\u001B[1;32m   3622\u001B[0m \u001B[38;5;28;01mexcept\u001B[39;00m \u001B[38;5;167;01mKeyError\u001B[39;00m \u001B[38;5;28;01mas\u001B[39;00m err:\n\u001B[0;32m-> 3623\u001B[0m     \u001B[38;5;28;01mraise\u001B[39;00m \u001B[38;5;167;01mKeyError\u001B[39;00m(key) \u001B[38;5;28;01mfrom\u001B[39;00m \u001B[38;5;21;01merr\u001B[39;00m\n\u001B[1;32m   3624\u001B[0m \u001B[38;5;28;01mexcept\u001B[39;00m \u001B[38;5;167;01mTypeError\u001B[39;00m:\n\u001B[1;32m   3625\u001B[0m     \u001B[38;5;66;03m# If we have a listlike key, _check_indexing_error will raise\u001B[39;00m\n\u001B[1;32m   3626\u001B[0m     \u001B[38;5;66;03m#  InvalidIndexError. Otherwise we fall through and re-raise\u001B[39;00m\n\u001B[1;32m   3627\u001B[0m     \u001B[38;5;66;03m#  the TypeError.\u001B[39;00m\n\u001B[1;32m   3628\u001B[0m     \u001B[38;5;28mself\u001B[39m\u001B[38;5;241m.\u001B[39m_check_indexing_error(key)\n",
      "\u001B[0;31mKeyError\u001B[0m: 'some_simulation_result'"
     ]
    }
   ],
   "source": [
    "from sklearn.model_selection import train_test_split\n",
    "from sklearn.ensemble import RandomForestRegressor\n",
    "from sklearn.metrics import mean_squared_error\n",
    "\n",
    "# Generate data\n",
    "num_samples = 1000\n",
    "data = generate_data(num_samples)\n",
    "\n",
    "# Preprocess the data\n",
    "# For simplicity, let's assume no preprocessing is needed.\n",
    "X = data[['age', 'weight', 'drug_dose']]\n",
    "y = data['some_simulation_result']  # Replace with actual result column name\n",
    "\n",
    "# Split the data into training and test sets\n",
    "X_train, X_test, y_train, y_test = train_test_split(X, y, test_size=0.2, random_state=42)\n",
    "\n",
    "# Initialize and train the model\n",
    "rf_model = RandomForestRegressor(n_estimators=100, random_state=42)\n",
    "rf_model.fit(X_train, y_train)\n",
    "\n",
    "# Evaluate the model\n",
    "y_pred = rf_model.predict(X_test)\n",
    "mse = mean_squared_error(y_test, y_pred)\n",
    "print(f\"Mean Squared Error: {mse}\")\n",
    "\n",
    "# Use the model for prediction\n",
    "new_data = [[45, 70, 0.5]]\n",
    "predicted_result = rf_model.predict(new_data)\n",
    "print(f\"Predicted Result: {predicted_result}\")\n"
   ],
   "metadata": {
    "collapsed": false,
    "ExecuteTime": {
     "end_time": "2023-09-12T02:58:39.631857Z",
     "start_time": "2023-09-12T02:58:35.552993Z"
    }
   }
  },
  {
   "cell_type": "code",
   "execution_count": null,
   "outputs": [],
   "source": [],
   "metadata": {
    "collapsed": false
   }
  }
 ]
}
