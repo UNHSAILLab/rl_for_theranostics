{
  "nbformat": 4,
  "nbformat_minor": 0,
  "metadata": {
    "colab": {
      "provenance": []
    },
    "kernelspec": {
      "name": "python3",
      "display_name": "Python 3"
    },
    "language_info": {
      "name": "python"
    }
  },
  "cells": [
    {
      "cell_type": "code",
      "source": [
        "import numpy as np\n",
        "from scipy.integrate import odeint\n",
        "import matplotlib.pyplot as plt"
      ],
      "metadata": {
        "id": "ZtPuXA_jsFpm"
      },
      "execution_count": null,
      "outputs": []
    },
    {
      "cell_type": "code",
      "execution_count": null,
      "metadata": {
        "id": "CGCy4vJIqys3"
      },
      "outputs": [],
      "source": [
        "import numpy as np\n",
        "from scipy.integrate import odeint\n",
        "import matplotlib.pyplot as plt\n",
        "\n",
        "# Model parameters\n",
        "# Note: These parameters should be estimated from experimental data.\n",
        "k_in_hot = 1.0\n",
        "k_in_cold = 0.2\n",
        "k_out_hot = 0.5\n",
        "k_out_cold = 0.7\n",
        "\n",
        "k_blood_tumor_hot = 0.3\n",
        "k_tumor_blood_hot = 0.2\n",
        "k_blood_liver_hot = 0.15\n",
        "k_liver_blood_hot = 0.1\n",
        "k_blood_kidneys_hot = 0.25\n",
        "k_kidneys_blood_hot = 0.05\n",
        "\n",
        "k_blood_tumor_cold = 0.4\n",
        "k_tumor_blood_cold = 0.25\n",
        "k_blood_liver_cold = 0.2\n",
        "k_liver_blood_cold = 0.15\n",
        "k_blood_kidneys_cold = 0.3\n",
        "k_kidneys_blood_cold = 0.1\n",
        "\n",
        "# PBPK model\n",
        "def pbpk_model(y, t):\n",
        "    blood_hot, liver_hot, kidneys_hot, tumor_hot, blood_cold, liver_cold, kidneys_cold, tumor_cold = y\n",
        "\n",
        "    # Rate equations\n",
        "    # Hot Lu-DOTATATE\n",
        "    dydt_blood_hot = k_in_hot - k_out_hot * blood_hot - k_blood_tumor_hot * blood_hot + k_tumor_blood_hot * tumor_hot - k_blood_liver_hot * blood_hot + k_liver_blood_hot * liver_hot - k_blood_kidneys_hot * blood_hot + k_kidneys_blood_hot * kidneys_hot\n",
        "    dydt_liver_hot = k_blood_liver_hot * blood_hot - k_liver_blood_hot * liver_hot\n",
        "    dydt_kidneys_hot = k_blood_kidneys_hot * blood_hot - k_kidneys_blood_hot * kidneys_hot\n",
        "    dydt_tumor_hot = k_blood_tumor_hot * blood_hot - k_tumor_blood_hot * tumor_hot\n",
        "\n",
        "    # Cold Lu-DOTATATE\n",
        "    dydt_blood_cold = k_in_cold - k_out_cold * blood_cold - k_blood_tumor_cold * blood_cold + k_tumor_blood_cold * tumor_cold - k_blood_liver_cold * blood_cold + k_liver_blood_cold * liver_cold - k_blood_kidneys_cold * blood_cold + k_kidneys_blood_cold * kidneys_cold\n",
        "    dydt_liver_cold = k_blood_liver_cold * blood_cold - k_liver_blood_cold * liver_cold\n",
        "    dydt_kidneys_cold = k_blood_kidneys_cold * blood_cold - k_kidneys_blood_cold * kidneys_cold\n",
        "    dydt_tumor_cold = k_blood_tumor_cold * blood_cold - k_tumor_blood_cold * tumor_cold\n",
        "\n",
        "    return [dydt_blood_hot, dydt_liver_hot, dydt_kidneys_hot, dydt_tumor_hot,\n",
        "            dydt_blood_cold, dydt_liver_cold, dydt_kidneys]\n"
      ]
    }
  ]
}