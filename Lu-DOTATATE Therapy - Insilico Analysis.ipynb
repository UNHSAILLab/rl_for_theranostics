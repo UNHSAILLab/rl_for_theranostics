{
 "cells": [
  {
   "cell_type": "markdown",
   "source": [
    "Reproduce the study- Effect of Tumor Perfusion and Receptor Density on Tumor\n",
    "Control Probability in 177Lu-DOTATATE Therapy: An In\n",
    "Silico Analysis for Standard and Optimized Treatment\n",
    "Luis David Jim´enez-Franco1, Gerhard Glatting2,3, Vikas Prasad2, Wolfgang A. Weber4, Ambros J. Beer2,\n",
    "and Peter Kletting2,3"
   ],
   "metadata": {
    "collapsed": false
   },
   "id": "b62312bf46fbeb1f"
  },
  {
   "cell_type": "code",
   "execution_count": null,
   "id": "initial_id",
   "metadata": {
    "collapsed": true
   },
   "outputs": [],
   "source": []
  }
 ],
 "metadata": {
  "kernelspec": {
   "display_name": "Python 3",
   "language": "python",
   "name": "python3"
  },
  "language_info": {
   "codemirror_mode": {
    "name": "ipython",
    "version": 2
   },
   "file_extension": ".py",
   "mimetype": "text/x-python",
   "name": "python",
   "nbconvert_exporter": "python",
   "pygments_lexer": "ipython2",
   "version": "2.7.6"
  }
 },
 "nbformat": 4,
 "nbformat_minor": 5
}
